{
 "cells": [
  {
   "cell_type": "markdown",
   "metadata": {},
   "source": [
    "# Basics.\n",
    "Let's learn to use the BOLT Python API with an exercise. We'll do a simple image classification task on the MNIST dataset. To perform this task, we'll build a fully connected neural network with the following specifications:\n",
    "* 784 (28 x 28) input dimension\n",
    "* A single 1000-dim hidden layer with ReLU\n",
    "* 10-dim output layer with Softmax"
   ]
  },
  {
   "cell_type": "code",
   "execution_count": 1,
   "metadata": {},
   "outputs": [
    {
     "name": "stdout",
     "output_type": "stream",
     "text": [
      "====== Building Fully Connected Network ======\n",
      "Layer: dim=1000, load_factor=1, act_func=ReLU\n",
      "Layer: dim=10, load_factor=1, act_func=Softmax\n",
      "Initialized Network in 0 seconds\n",
      "==============================\n"
     ]
    }
   ],
   "source": [
    "\n",
    "from thirdai import bolt\n",
    "\n",
    "mnist_layers = [\n",
    "    bolt.LayerConfig(dim=1000, activation_function=bolt.ActivationFunctions.ReLU),\n",
    "    bolt.LayerConfig(dim=10, activation_function=bolt.ActivationFunctions.Softmax)\n",
    "]\n",
    "mnist_network = bolt.Network(layers=mnist_layers, input_dim=784)"
   ]
  },
  {
   "cell_type": "code",
   "execution_count": 2,
   "metadata": {},
   "outputs": [
    {
     "name": "stdout",
     "output_type": "stream",
     "text": [
      "Loading train dataset...\n",
      "Loading test dataset...\n",
      "Read 60000 vectors from datasets/mnist/mnist in 0 seconds\n",
      "Read 10000 vectors from datasets/mnist/mnist.t in 0 seconds\n"
     ]
    }
   ],
   "source": [
    "from thirdai import dataset\n",
    "\n",
    "print(\"Loading train dataset...\")\n",
    "mnist_train = dataset.load_bolt_svm_dataset(filename=\"datasets/mnist/mnist\", batch_size=256)\n",
    "\n",
    "print(\"Loading test dataset...\")\n",
    "mnist_test = dataset.load_bolt_svm_dataset(filename=\"datasets/mnist/mnist.t\", batch_size=256)\n"
   ]
  },
  {
   "cell_type": "code",
   "execution_count": 3,
   "metadata": {},
   "outputs": [
    {
     "name": "stdout",
     "output_type": "stream",
     "text": [
      "\n",
      "Epoch 1:\n",
      "[==================================================] 100%\n",
      "Processed 235 training batches in 4 seconds\n",
      "[==================================================] 100%\n",
      "Processed 40 test batches in 472 milliseconds\n",
      "Accuracy: 0.9531 (9531/10000)\n"
     ]
    },
    {
     "data": {
      "text/plain": [
       "({'test_time': [472.0], 'categorical_accuracy': [0.9531]},\n",
       " array([[1.1310495e-11, 8.2258145e-10, 5.8272608e-06, ..., 9.9998641e-01,\n",
       "         1.2942891e-10, 3.0245258e-07],\n",
       "        [4.9792249e-07, 2.9483358e-03, 9.9565291e-01, ..., 2.2643784e-12,\n",
       "         3.3942335e-06, 5.6468863e-10],\n",
       "        [1.0083226e-07, 9.9855953e-01, 2.6424002e-04, ..., 3.3749739e-04,\n",
       "         2.1043376e-04, 2.4309951e-05],\n",
       "        ...,\n",
       "        [1.0667796e-09, 9.4360580e-08, 3.3615845e-07, ..., 1.3852460e-05,\n",
       "         7.6349727e-03, 1.7256956e-03],\n",
       "        [4.3771325e-07, 4.2658760e-07, 1.1811041e-07, ..., 5.4442144e-09,\n",
       "         1.6028654e-04, 3.0941254e-09],\n",
       "        [4.3474174e-10, 6.4210627e-13, 2.4786304e-09, ..., 1.4204260e-13,\n",
       "         2.4888418e-11, 4.7382248e-10]], dtype=float32))"
      ]
     },
     "execution_count": 3,
     "metadata": {},
     "output_type": "execute_result"
    }
   ],
   "source": [
    "mnist_network.train(train_data=mnist_train, loss_fn=bolt.CategoricalCrossEntropyLoss(), learning_rate=0.001, epochs=1)\n",
    "mnist_network.predict(test_data=mnist_test, metrics=[\"categorical_accuracy\"], verbose=True)\n"
   ]
  },
  {
   "cell_type": "markdown",
   "metadata": {},
   "source": [
    "# Can we get wider?"
   ]
  },
  {
   "cell_type": "code",
   "execution_count": 10,
   "metadata": {},
   "outputs": [
    {
     "name": "stdout",
     "output_type": "stream",
     "text": [
      "====== Building Fully Connected Network ======\n",
      "Layer: dim=10000, load_factor=1, act_func=ReLU\n",
      "Layer: dim=151, load_factor=1, act_func=Softmax\n",
      "Initialized Network in 0 seconds\n",
      "==============================\n"
     ]
    }
   ],
   "source": [
    "bigger_layers = [\n",
    "    bolt.LayerConfig(dim=10000, load_factor=0.1, activation_function=bolt.ActivationFunctions.ReLU),\n",
    "    bolt.LayerConfig(dim=151, activation_function=bolt.ActivationFunctions.Softmax)\n",
    "]\n",
    "bigger_network = bolt.Network(layers=bigger_layers, input_dim=5512)"
   ]
  },
  {
   "cell_type": "code",
   "execution_count": 8,
   "metadata": {
    "scrolled": true
   },
   "outputs": [
    {
     "name": "stdout",
     "output_type": "stream",
     "text": [
      "Loading train dataset...\n",
      "Read 18100 vectors from datasets/intent_classification/train_shuf.svm in 2 seconds\n",
      "Loading test dataset...\n",
      "Read 5500 vectors from datasets/intent_classification/test_shuf.svm in 0 seconds\n"
     ]
    }
   ],
   "source": [
    "\n",
    "print(\"Loading train dataset...\")\n",
    "intent_class_train = dataset.load_bolt_svm_dataset(filename=\"datasets/intent_classification/train_shuf.svm\", batch_size=256)\n",
    "\n",
    "print(\"Loading test dataset...\")\n",
    "intent_class_test = dataset.load_bolt_svm_dataset(filename=\"datasets/intent_classification/test_shuf.svm\", batch_size=256)"
   ]
  },
  {
   "cell_type": "code",
   "execution_count": null,
   "metadata": {},
   "outputs": [
    {
     "name": "stdout",
     "output_type": "stream",
     "text": [
      "\n",
      "Epoch 1:\n",
      "[==================================================] 100%\n",
      "Processed 71 training batches in 80 seconds\n",
      "\n",
      "Epoch 2:\n",
      "[==                                                ] 4%"
     ]
    }
   ],
   "source": [
    "bigger_network.train(train_data=intent_class_train, loss_fn=bolt.CategoricalCrossEntropyLoss(), learning_rate=0.001, epochs=2)\n",
    "bigger_network.enable_sparse_inference()\n",
    "bigger_network.train(train_data=intent_class_train, loss_fn=bolt.CategoricalCrossEntropyLoss(), learning_rate=0.001, epochs=1)\n",
    "bigger_network.predict(test_data=intent_class_test, metrics=[\"categorical_accuracy\"], verbose=True)"
   ]
  },
  {
   "cell_type": "markdown",
   "metadata": {},
   "source": [
    "# Let's get wider."
   ]
  },
  {
   "cell_type": "code",
   "execution_count": null,
   "metadata": {},
   "outputs": [],
   "source": [
    "sentiment_analysis_layers = [\n",
    "    bolt.LayerConfig(dim=2000, \n",
    "        load_factor=0.2, \n",
    "        activation_function=bolt.ActivationFunctions.ReLU,\n",
    "        sampling_config=bolt.SamplingConfig(\n",
    "            hashes_per_table=4,\n",
    "            num_tables=64,\n",
    "            range_pow=4 * 3,\n",
    "            reservoir_size=64,\n",
    "        )),\n",
    "    bolt.LayerConfig(dim=2,\n",
    "        load_factor=1.0, \n",
    "        activation_function=bolt.ActivationFunctions.Softmax,\n",
    "        )     \n",
    "]\n",
    "sentiment_analysis_network = bolt.Network(layers=sentiment_analysis_layers, input_dim=100000)\n",
    "sentiment_analysis_network.save(\"pathtosavefile\")"
   ]
  },
  {
   "cell_type": "code",
   "execution_count": null,
   "metadata": {},
   "outputs": [],
   "source": [
    "sentiment_analysis_network = bolt.Network.load(\"pathtosavefile\")\n",
    "\n",
    "import interactive_sentiment_analysis\n",
    "interactive_sentiment_analysis.demo(sentiment_analysis_network)"
   ]
  }
 ],
 "metadata": {
  "interpreter": {
   "hash": "31f2aee4e71d21fbe5cf8b01ff0e069b9275f58929596ceb00d14d90e3e16cd6"
  },
  "kernelspec": {
   "display_name": "Python 3 (ipykernel)",
   "language": "python",
   "name": "python3"
  },
  "language_info": {
   "codemirror_mode": {
    "name": "ipython",
    "version": 3
   },
   "file_extension": ".py",
   "mimetype": "text/x-python",
   "name": "python",
   "nbconvert_exporter": "python",
   "pygments_lexer": "ipython3",
   "version": "3.9.10"
  }
 },
 "nbformat": 4,
 "nbformat_minor": 2
}
