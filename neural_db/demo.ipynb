{
 "cells": [
  {
   "attachments": {},
   "cell_type": "markdown",
   "metadata": {},
   "source": [
    "## ThirdAI's NeuralDB\n",
    "\n",
    "In this notebook, we will show \n",
    "\n",
    "1. How to easily build a semantic QnA engine for all your documents with ThirdAI's BOLT engine.\n",
    "\n",
    "2. (Optional) How to use your OpenAI key to get retrieval augmented answers from OpenAI.\n",
    "\n",
    "3. How to teach your retrieval model with RLHF.\n",
    "\n",
    "4. (Optional) How to save your models and export to ThirdAI's Playground web-app to do interative QnA and teach your model with RLHF."
   ]
  },
  {
   "cell_type": "code",
   "execution_count": null,
   "outputs": [],
   "source": [
    "!python --version"
   ],
   "metadata": {
    "collapsed": false,
    "is_executing": true
   }
  },
  {
   "cell_type": "code",
   "execution_count": 2,
   "metadata": {
    "ExecuteTime": {
     "end_time": "2023-06-24T17:38:41.153839981Z",
     "start_time": "2023-06-24T17:38:39.232786139Z"
    }
   },
   "outputs": [
    {
     "name": "stdout",
     "output_type": "stream",
     "text": [
      "Requirement already satisfied: openai==0.27.6 in /home/xavier/anaconda3/envs/hackathon39/lib/python3.9/site-packages (from -r requirements.txt (line 1)) (0.27.6)\r\n",
      "Requirement already satisfied: tools==0.1.9 in /home/xavier/anaconda3/envs/hackathon39/lib/python3.9/site-packages (from -r requirements.txt (line 2)) (0.1.9)\r\n",
      "Requirement already satisfied: pymupdf==1.22.3 in /home/xavier/anaconda3/envs/hackathon39/lib/python3.9/site-packages (from -r requirements.txt (line 3)) (1.22.3)\r\n",
      "Requirement already satisfied: markupsafe==2.0.1 in /home/xavier/anaconda3/envs/hackathon39/lib/python3.9/site-packages (from -r requirements.txt (line 4)) (2.0.1)\r\n",
      "Requirement already satisfied: pandas==2.0.1 in /home/xavier/anaconda3/envs/hackathon39/lib/python3.9/site-packages (from -r requirements.txt (line 5)) (2.0.1)\r\n",
      "Requirement already satisfied: numpy==1.24.3 in /home/xavier/anaconda3/envs/hackathon39/lib/python3.9/site-packages (from -r requirements.txt (line 6)) (1.24.3)\r\n",
      "Requirement already satisfied: sentencepiece==0.1.99 in /home/xavier/anaconda3/envs/hackathon39/lib/python3.9/site-packages (from -r requirements.txt (line 7)) (0.1.99)\r\n",
      "Requirement already satisfied: protobuf==3.20 in /home/xavier/anaconda3/envs/hackathon39/lib/python3.9/site-packages (from -r requirements.txt (line 8)) (3.20.0)\r\n",
      "Requirement already satisfied: pillow==9.5.0 in /home/xavier/anaconda3/envs/hackathon39/lib/python3.9/site-packages (from -r requirements.txt (line 9)) (9.5.0)\r\n",
      "Requirement already satisfied: frontend==0.0.3 in /home/xavier/anaconda3/envs/hackathon39/lib/python3.9/site-packages (from -r requirements.txt (line 10)) (0.0.3)\r\n",
      "Requirement already satisfied: langchain==0.0.171 in /home/xavier/anaconda3/envs/hackathon39/lib/python3.9/site-packages (from -r requirements.txt (line 11)) (0.0.171)\r\n",
      "Requirement already satisfied: paper-qa==1.6.0 in /home/xavier/anaconda3/envs/hackathon39/lib/python3.9/site-packages (from -r requirements.txt (line 12)) (1.6.0)\r\n",
      "Requirement already satisfied: urllib3<2 in /home/xavier/anaconda3/envs/hackathon39/lib/python3.9/site-packages (from -r requirements.txt (line 13)) (1.26.16)\r\n",
      "Requirement already satisfied: nltk==3.8.1 in /home/xavier/anaconda3/envs/hackathon39/lib/python3.9/site-packages (from -r requirements.txt (line 14)) (3.8.1)\r\n",
      "Requirement already satisfied: python-docx in /home/xavier/anaconda3/envs/hackathon39/lib/python3.9/site-packages (from -r requirements.txt (line 15)) (0.8.11)\r\n",
      "Requirement already satisfied: thirdai==0.7.9 in /home/xavier/anaconda3/envs/hackathon39/lib/python3.9/site-packages (from -r requirements.txt (line 16)) (0.7.9)\r\n",
      "Requirement already satisfied: requests>=2.20 in /home/xavier/anaconda3/envs/hackathon39/lib/python3.9/site-packages (from openai==0.27.6->-r requirements.txt (line 1)) (2.29.0)\r\n",
      "Requirement already satisfied: tqdm in /home/xavier/anaconda3/envs/hackathon39/lib/python3.9/site-packages (from openai==0.27.6->-r requirements.txt (line 1)) (4.65.0)\r\n",
      "Requirement already satisfied: aiohttp in /home/xavier/anaconda3/envs/hackathon39/lib/python3.9/site-packages (from openai==0.27.6->-r requirements.txt (line 1)) (3.8.4)\r\n",
      "Requirement already satisfied: pytils in /home/xavier/anaconda3/envs/hackathon39/lib/python3.9/site-packages (from tools==0.1.9->-r requirements.txt (line 2)) (0.4.1)\r\n",
      "Requirement already satisfied: six in /home/xavier/anaconda3/envs/hackathon39/lib/python3.9/site-packages (from tools==0.1.9->-r requirements.txt (line 2)) (1.16.0)\r\n",
      "Requirement already satisfied: lxml in /home/xavier/anaconda3/envs/hackathon39/lib/python3.9/site-packages (from tools==0.1.9->-r requirements.txt (line 2)) (4.9.1)\r\n",
      "Requirement already satisfied: python-dateutil>=2.8.2 in /home/xavier/anaconda3/envs/hackathon39/lib/python3.9/site-packages (from pandas==2.0.1->-r requirements.txt (line 5)) (2.8.2)\r\n",
      "Requirement already satisfied: pytz>=2020.1 in /home/xavier/anaconda3/envs/hackathon39/lib/python3.9/site-packages (from pandas==2.0.1->-r requirements.txt (line 5)) (2022.7)\r\n",
      "Requirement already satisfied: tzdata>=2022.1 in /home/xavier/anaconda3/envs/hackathon39/lib/python3.9/site-packages (from pandas==2.0.1->-r requirements.txt (line 5)) (2023.3)\r\n",
      "Requirement already satisfied: starlette>=0.12.0 in /home/xavier/anaconda3/envs/hackathon39/lib/python3.9/site-packages (from frontend==0.0.3->-r requirements.txt (line 10)) (0.28.0)\r\n",
      "Requirement already satisfied: uvicorn>=0.7.1 in /home/xavier/anaconda3/envs/hackathon39/lib/python3.9/site-packages (from frontend==0.0.3->-r requirements.txt (line 10)) (0.22.0)\r\n",
      "Requirement already satisfied: itsdangerous>=1.1.0 in /home/xavier/anaconda3/envs/hackathon39/lib/python3.9/site-packages (from frontend==0.0.3->-r requirements.txt (line 10)) (2.1.2)\r\n",
      "Requirement already satisfied: aiofiles in /home/xavier/anaconda3/envs/hackathon39/lib/python3.9/site-packages (from frontend==0.0.3->-r requirements.txt (line 10)) (22.1.0)\r\n",
      "Requirement already satisfied: PyYAML>=5.4.1 in /home/xavier/anaconda3/envs/hackathon39/lib/python3.9/site-packages (from langchain==0.0.171->-r requirements.txt (line 11)) (6.0)\r\n",
      "Requirement already satisfied: SQLAlchemy<3,>=1.4 in /home/xavier/anaconda3/envs/hackathon39/lib/python3.9/site-packages (from langchain==0.0.171->-r requirements.txt (line 11)) (2.0.17)\r\n",
      "Requirement already satisfied: async-timeout<5.0.0,>=4.0.0 in /home/xavier/anaconda3/envs/hackathon39/lib/python3.9/site-packages (from langchain==0.0.171->-r requirements.txt (line 11)) (4.0.2)\r\n",
      "Requirement already satisfied: dataclasses-json<0.6.0,>=0.5.7 in /home/xavier/anaconda3/envs/hackathon39/lib/python3.9/site-packages (from langchain==0.0.171->-r requirements.txt (line 11)) (0.5.8)\r\n",
      "Requirement already satisfied: numexpr<3.0.0,>=2.8.4 in /home/xavier/anaconda3/envs/hackathon39/lib/python3.9/site-packages (from langchain==0.0.171->-r requirements.txt (line 11)) (2.8.4)\r\n",
      "Requirement already satisfied: openapi-schema-pydantic<2.0,>=1.2 in /home/xavier/anaconda3/envs/hackathon39/lib/python3.9/site-packages (from langchain==0.0.171->-r requirements.txt (line 11)) (1.2.4)\r\n",
      "Requirement already satisfied: pydantic<2,>=1 in /home/xavier/anaconda3/envs/hackathon39/lib/python3.9/site-packages (from langchain==0.0.171->-r requirements.txt (line 11)) (1.10.9)\r\n",
      "Requirement already satisfied: tenacity<9.0.0,>=8.1.0 in /home/xavier/anaconda3/envs/hackathon39/lib/python3.9/site-packages (from langchain==0.0.171->-r requirements.txt (line 11)) (8.2.2)\r\n",
      "Requirement already satisfied: pypdf in /home/xavier/anaconda3/envs/hackathon39/lib/python3.9/site-packages (from paper-qa==1.6.0->-r requirements.txt (line 12)) (3.11.0)\r\n",
      "Requirement already satisfied: faiss-cpu in /home/xavier/anaconda3/envs/hackathon39/lib/python3.9/site-packages (from paper-qa==1.6.0->-r requirements.txt (line 12)) (1.7.4)\r\n",
      "Requirement already satisfied: PyCryptodome in /home/xavier/anaconda3/envs/hackathon39/lib/python3.9/site-packages (from paper-qa==1.6.0->-r requirements.txt (line 12)) (3.18.0)\r\n",
      "Requirement already satisfied: html2text in /home/xavier/anaconda3/envs/hackathon39/lib/python3.9/site-packages (from paper-qa==1.6.0->-r requirements.txt (line 12)) (2020.1.16)\r\n",
      "Requirement already satisfied: tiktoken in /home/xavier/anaconda3/envs/hackathon39/lib/python3.9/site-packages (from paper-qa==1.6.0->-r requirements.txt (line 12)) (0.4.0)\r\n",
      "Requirement already satisfied: rmrkl>=0.0.2 in /home/xavier/anaconda3/envs/hackathon39/lib/python3.9/site-packages (from paper-qa==1.6.0->-r requirements.txt (line 12)) (0.0.3)\r\n",
      "Requirement already satisfied: click in /home/xavier/anaconda3/envs/hackathon39/lib/python3.9/site-packages (from nltk==3.8.1->-r requirements.txt (line 14)) (8.1.3)\r\n",
      "Requirement already satisfied: joblib in /home/xavier/anaconda3/envs/hackathon39/lib/python3.9/site-packages (from nltk==3.8.1->-r requirements.txt (line 14)) (1.2.0)\r\n",
      "Requirement already satisfied: regex>=2021.8.3 in /home/xavier/anaconda3/envs/hackathon39/lib/python3.9/site-packages (from nltk==3.8.1->-r requirements.txt (line 14)) (2023.6.3)\r\n",
      "Requirement already satisfied: typing-extensions in /home/xavier/anaconda3/envs/hackathon39/lib/python3.9/site-packages (from thirdai==0.7.9->-r requirements.txt (line 16)) (4.6.3)\r\n",
      "Requirement already satisfied: PyTrie in /home/xavier/anaconda3/envs/hackathon39/lib/python3.9/site-packages (from thirdai==0.7.9->-r requirements.txt (line 16)) (0.4.0)\r\n",
      "Requirement already satisfied: attrs>=17.3.0 in /home/xavier/anaconda3/envs/hackathon39/lib/python3.9/site-packages (from aiohttp->openai==0.27.6->-r requirements.txt (line 1)) (22.1.0)\r\n",
      "Requirement already satisfied: charset-normalizer<4.0,>=2.0 in /home/xavier/anaconda3/envs/hackathon39/lib/python3.9/site-packages (from aiohttp->openai==0.27.6->-r requirements.txt (line 1)) (2.0.4)\r\n",
      "Requirement already satisfied: multidict<7.0,>=4.5 in /home/xavier/anaconda3/envs/hackathon39/lib/python3.9/site-packages (from aiohttp->openai==0.27.6->-r requirements.txt (line 1)) (6.0.4)\r\n",
      "Requirement already satisfied: yarl<2.0,>=1.0 in /home/xavier/anaconda3/envs/hackathon39/lib/python3.9/site-packages (from aiohttp->openai==0.27.6->-r requirements.txt (line 1)) (1.9.2)\r\n",
      "Requirement already satisfied: frozenlist>=1.1.1 in /home/xavier/anaconda3/envs/hackathon39/lib/python3.9/site-packages (from aiohttp->openai==0.27.6->-r requirements.txt (line 1)) (1.3.3)\r\n",
      "Requirement already satisfied: aiosignal>=1.1.2 in /home/xavier/anaconda3/envs/hackathon39/lib/python3.9/site-packages (from aiohttp->openai==0.27.6->-r requirements.txt (line 1)) (1.3.1)\r\n",
      "Requirement already satisfied: marshmallow<4.0.0,>=3.3.0 in /home/xavier/anaconda3/envs/hackathon39/lib/python3.9/site-packages (from dataclasses-json<0.6.0,>=0.5.7->langchain==0.0.171->-r requirements.txt (line 11)) (3.19.0)\r\n",
      "Requirement already satisfied: marshmallow-enum<2.0.0,>=1.5.1 in /home/xavier/anaconda3/envs/hackathon39/lib/python3.9/site-packages (from dataclasses-json<0.6.0,>=0.5.7->langchain==0.0.171->-r requirements.txt (line 11)) (1.5.1)\r\n",
      "Requirement already satisfied: typing-inspect>=0.4.0 in /home/xavier/anaconda3/envs/hackathon39/lib/python3.9/site-packages (from dataclasses-json<0.6.0,>=0.5.7->langchain==0.0.171->-r requirements.txt (line 11)) (0.9.0)\r\n",
      "Requirement already satisfied: idna<4,>=2.5 in /home/xavier/anaconda3/envs/hackathon39/lib/python3.9/site-packages (from requests>=2.20->openai==0.27.6->-r requirements.txt (line 1)) (3.4)\r\n",
      "Requirement already satisfied: certifi>=2017.4.17 in /home/xavier/anaconda3/envs/hackathon39/lib/python3.9/site-packages (from requests>=2.20->openai==0.27.6->-r requirements.txt (line 1)) (2023.5.7)\r\n",
      "Requirement already satisfied: greenlet!=0.4.17 in /home/xavier/anaconda3/envs/hackathon39/lib/python3.9/site-packages (from SQLAlchemy<3,>=1.4->langchain==0.0.171->-r requirements.txt (line 11)) (2.0.2)\r\n",
      "Requirement already satisfied: anyio<5,>=3.4.0 in /home/xavier/anaconda3/envs/hackathon39/lib/python3.9/site-packages (from starlette>=0.12.0->frontend==0.0.3->-r requirements.txt (line 10)) (3.5.0)\r\n",
      "Requirement already satisfied: h11>=0.8 in /home/xavier/anaconda3/envs/hackathon39/lib/python3.9/site-packages (from uvicorn>=0.7.1->frontend==0.0.3->-r requirements.txt (line 10)) (0.14.0)\r\n",
      "Requirement already satisfied: sortedcontainers in /home/xavier/anaconda3/envs/hackathon39/lib/python3.9/site-packages (from PyTrie->thirdai==0.7.9->-r requirements.txt (line 16)) (2.4.0)\r\n",
      "Requirement already satisfied: sniffio>=1.1 in /home/xavier/anaconda3/envs/hackathon39/lib/python3.9/site-packages (from anyio<5,>=3.4.0->starlette>=0.12.0->frontend==0.0.3->-r requirements.txt (line 10)) (1.2.0)\r\n",
      "Requirement already satisfied: packaging>=17.0 in /home/xavier/anaconda3/envs/hackathon39/lib/python3.9/site-packages (from marshmallow<4.0.0,>=3.3.0->dataclasses-json<0.6.0,>=0.5.7->langchain==0.0.171->-r requirements.txt (line 11)) (23.0)\r\n",
      "Requirement already satisfied: mypy-extensions>=0.3.0 in /home/xavier/anaconda3/envs/hackathon39/lib/python3.9/site-packages (from typing-inspect>=0.4.0->dataclasses-json<0.6.0,>=0.5.7->langchain==0.0.171->-r requirements.txt (line 11)) (1.0.0)\r\n"
     ]
    }
   ],
   "source": [
    "!pip3 install -r requirements.txt"
   ]
  },
  {
   "cell_type": "code",
   "execution_count": 2,
   "metadata": {
    "ExecuteTime": {
     "end_time": "2023-06-24T15:51:29.026959304Z",
     "start_time": "2023-06-24T15:51:28.622478614Z"
    }
   },
   "outputs": [
    {
     "name": "stdout",
     "output_type": "stream",
     "text": [
      "You need a license key to use ThirdAI's library. Please request a trial license at https://www.thirdai.com/try-bolt/\n"
     ]
    }
   ],
   "source": [
    "# thirdai's license activation\n",
    "\n",
    "import thirdai\n",
    "try:\n",
    "    thirdai.licensing.activate(\"\")\n",
    "except:\n",
    "    print(\"You need a license key to use ThirdAI's library. Please request a trial license at https://www.thirdai.com/try-bolt/\")\n",
    "\n",
    "thirdai.set_seed(7)"
   ]
  },
  {
   "cell_type": "code",
   "execution_count": 4,
   "metadata": {},
   "outputs": [],
   "source": [
    "from thirdai import bolt\n",
    "import os\n",
    "import nltk\n",
    "nltk.data.path.append(\"./data/\")\n",
    "from pathlib import Path\n",
    "import pickle\n",
    "from doc_utils import documents"
   ]
  },
  {
   "attachments": {},
   "cell_type": "markdown",
   "metadata": {},
   "source": [
    "### Load your files\n",
    "\n",
    "You can load a mix of csv, pdf and docx files. If you want to train on a CSV file, set the target_column_name variable below to the ID column of the CSV file. The ID column must contain consecutive integers from 0 to num_ids - 1.\n",
    "\n",
    "Also, if you're loading from a pre-trained checkpoint, the query_col_name and target_col_name should match the ones used for that model. For the checkpoints that ThirdAI provides, we standardize the query_column_name to \"QUERY\" and the target_column_name to \"DOC_ID\"."
   ]
  },
  {
   "cell_type": "code",
   "execution_count": 5,
   "metadata": {},
   "outputs": [],
   "source": [
    "query_column_name = \"QUERY\"\n",
    "target_column_name = \"DOC_ID\"\n",
    "\n",
    "combined_pdfs = None\n",
    "combined_docxs = None\n",
    "csv_doc = None\n",
    "\n",
    "# This object does the bookkeeping for managing multiple documents\n",
    "doclist = documents.DocList()"
   ]
  },
  {
   "attachments": {},
   "cell_type": "markdown",
   "metadata": {},
   "source": [
    "#### Option 1: CSV files"
   ]
  },
  {
   "cell_type": "code",
   "execution_count": 16,
   "metadata": {},
   "outputs": [
    {
     "name": "stdout",
     "output_type": "stream",
     "text": [
      "DOC_ID                                                                                                                                                                                                                                                                                                                                                                                                                                                                                                                                                                                                                                                                                                                                     0\n",
      "TITLE                                                                                                                                                                                                                                                                                                                                                                                                                                                                                                                                                                                                              Command 3M Small Kitchen Hooks; White; Decorate Damage Free; Easy On; Easy Off; 9 Hooks; 12 Strips; Multi-Pack - 17067-VP\n",
      "DESCRIPTION                                                                                                                                                                                                                                                                                                                                                                                                                                                                                                                                                                                                                                                                                                                  Sale Unit: PACK\n",
      "BULLET_POINTS    INCLUDES - 9 hooks and 12 small indoor strips; 1 hook holds 1/2 lb;ORGANIZE DAMAGE-FREE - Say goodbye to holes; marks; or sticky residue on your walls; doors; cabinets; or closets; Command Hooks by 3M are easy to use and help keep your walls looking beautiful;NO TOOLS REQUIRED- Hang hats; calendars; keys; measuring spoons; cleaning tools; jewelry; and accessories where you want without nails or a hammer. Includes metal wire toggle feature for versatile hanging;STRONG AND VERSATILE- Command Wire Hooks include hold strongly on a variety of indoor surfaces including painted walls; smooth ceilings; finished wood; glass; tile; metal; and other smooth surfaces;REMOVES CLEANLY- Reorganize when ...\n",
      "BRAND                                                                                                                                                                                                                                                                                                                                                                                                                                                                                                                                                                                                                                                                                                                                Command\n",
      "Name: 0, dtype: object\n"
     ]
    }
   ],
   "source": [
    "csv_file = \"sample_catalog.csv\"\n",
    "\n",
    "# Visualize the dataframe and get the column names in the csv_file.\n",
    "# Your target column (id_col) name has to match the target column in the model defined above (we are using target_column_name across the notebook)\n",
    "# You will have to pick your choice of strong_columns and weak_columns for the train step shown next.\n",
    "# Strong columns are usually the most important ones like titles of documents, keywords, categories etc\n",
    "# Weak columns are usually the long descriptions\n",
    "\n",
    "import pandas as pd\n",
    "pd.options.display.max_colwidth = 700\n",
    "\n",
    "df = pd.read_csv(csv_file)\n",
    "print(df.iloc[0])"
   ]
  },
  {
   "cell_type": "code",
   "execution_count": 17,
   "metadata": {},
   "outputs": [],
   "source": [
    "csv_doc = documents.CSV(\n",
    "    path=csv_file,\n",
    "    id_col=target_column_name,\n",
    "    strong_cols=['TITLE', 'BRAND'],\n",
    "    weak_cols=['DESCRIPTION'],\n",
    "    display_cols=['TITLE','DESCRIPTION'],\n",
    ")\n",
    "\n",
    "doclist.add_document(csv_doc)"
   ]
  },
  {
   "attachments": {},
   "cell_type": "markdown",
   "metadata": {},
   "source": [
    "#### Option 2: PDF or DOCX files"
   ]
  },
  {
   "cell_type": "code",
   "execution_count": 6,
   "metadata": {},
   "outputs": [],
   "source": [
    "filenames = ['mutual_nda_teamplate_for_testing.pdf']\n",
    "\n",
    "pdfs = [name for name in filenames if name.endswith(\".pdf\")]\n",
    "docxs = [name for name in filenames if name.endswith(\".docx\")]\n",
    "\n",
    "if len(pdfs)>0:\n",
    "    combined_pdfs = documents.PDF(\n",
    "        files=pdfs, \n",
    "        expected_id_col=target_column_name,\n",
    "        hash_to_id_offset=doclist.get_source_hash_to_id_offset_map(),\n",
    "        next_id_offset=doclist.get_n_new_ids(),\n",
    "    )\n",
    "    doclist.add_document(combined_pdfs)\n",
    "\n",
    "if len(docxs)>0:\n",
    "    combined_docxs = documents.DOCX(\n",
    "        files=docxs, \n",
    "        expected_id_col=target_column_name,\n",
    "        hash_to_id_offset=doclist.get_source_hash_to_id_offset_map(),\n",
    "        next_id_offset=doclist.get_n_new_ids(),\n",
    "    )\n",
    "    doclist.add_document(combined_docxs)"
   ]
  },
  {
   "attachments": {},
   "cell_type": "markdown",
   "metadata": {},
   "source": [
    "### Model Definition\n",
    "#### Option 1: Define a model from scratch"
   ]
  },
  {
   "cell_type": "code",
   "execution_count": 41,
   "metadata": {},
   "outputs": [],
   "source": [
    "model = bolt.UniversalDeepTransformer(\n",
    "    data_types = {\n",
    "        query_column_name: bolt.types.text(tokenizer=\"char-4\"),\n",
    "        target_column_name: bolt.types.categorical(delimiter=\":\"),\n",
    "    },\n",
    "    target=target_column_name,\n",
    "    n_target_classes=doclist.get_n_new_ids(),\n",
    "    integer_target=True,\n",
    "    options={\n",
    "        \"fhr\": 50000,\n",
    "        \"embedding_dimension\": 2048,\n",
    "        \"extreme_classification\": True,\n",
    "        \"extreme_output_dim\": 50000,\n",
    "        \"rlhf\":True,\n",
    "    }\n",
    ")\n",
    "\n",
    "lr = 0.005"
   ]
  },
  {
   "attachments": {},
   "cell_type": "markdown",
   "metadata": {},
   "source": [
    "#### Option 2: Load from a checkpoint"
   ]
  },
  {
   "cell_type": "code",
   "execution_count": null,
   "metadata": {},
   "outputs": [],
   "source": [
    "import os\n",
    "\n",
    "checkpoint = \"base_model.bolt\"\n",
    "\n",
    "if not os.path.exists(checkpoint):\n",
    "    os.system(\"wget -O base_model.bolt https://www.dropbox.com/s/lh08ijj5u7yhatv/hotpotqa_to_msmarco.bolt?dl=0\")\n",
    "\n",
    "model = bolt.UniversalDeepTransformer.load(checkpoint)\n",
    "\n",
    "model.clear_index()\n",
    "\n",
    "for doc in [csv_doc, combined_pdfs, combined_docxs]:\n",
    "    if doc:\n",
    "        print(doc)\n",
    "        doc_config = doc.get_config()\n",
    "        model.introduce_documents(\n",
    "            doc_config.introduction_dataset,\n",
    "            strong_column_names=doc_config.strong_cols, \n",
    "            weak_column_names=[],\n",
    "            num_buckets_to_sample=16,\n",
    "        )\n",
    "\n",
    "lr = 1e-3"
   ]
  },
  {
   "attachments": {},
   "cell_type": "markdown",
   "metadata": {},
   "source": [
    "### Train the model\n"
   ]
  },
  {
   "cell_type": "code",
   "execution_count": null,
   "metadata": {},
   "outputs": [],
   "source": [
    "for doc in [csv_doc, combined_pdfs, combined_docxs]:\n",
    "    if doc:\n",
    "        doc_config = combined_pdfs.get_config()\n",
    "        metrics = model.cold_start(\n",
    "            filename=doc_config.unsupervised_dataset,\n",
    "            strong_column_names=doc_config.strong_cols,\n",
    "            weak_column_names=doc_config.weak_cols,\n",
    "            epochs=3,\n",
    "            learning_rate=lr,\n",
    "            metrics=[\"precision@5\"],\n",
    "        )"
   ]
  },
  {
   "cell_type": "code",
   "execution_count": 36,
   "metadata": {},
   "outputs": [],
   "source": [
    "# how many search results do you want to retrieve from your files for every query\n",
    "N_REFERENCES = 2\n",
    "\n",
    "model.set_decode_params(min(doclist.get_n_new_ids(), N_REFERENCES), min(doclist.get_n_new_ids(), 100))"
   ]
  },
  {
   "attachments": {},
   "cell_type": "markdown",
   "metadata": {},
   "source": [
    "### Get Answers from OpenAI\n",
    "\n",
    "In this section, we will show how to use LangChain and query OpenAI's QnA module to generate an answer from the references that you retrieve from the above BOLT model. You'll have to specify your own OpenAI key for this module to work. You can replace this segment with any other model of your choice. You can choose to use an on-prem open source model like MPT or Dolly for answer generation with the same prompt that you use with OpenAI.\n"
   ]
  },
  {
   "cell_type": "code",
   "execution_count": 11,
   "metadata": {},
   "outputs": [],
   "source": [
    "from langchain.chat_models import ChatOpenAI\n",
    "from paperqa.qaprompts import qa_prompt, make_chain\n",
    "\n",
    "your_openai_key = \"\"\n",
    "\n",
    "llm = ChatOpenAI(\n",
    "    model_name='gpt-3.5-turbo', \n",
    "    temperature=0.1, \n",
    "    openai_api_key=your_openai_key,\n",
    ")\n",
    "\n",
    "qa_chain = make_chain(prompt=qa_prompt, llm=llm)"
   ]
  },
  {
   "cell_type": "code",
   "execution_count": 12,
   "metadata": {},
   "outputs": [],
   "source": [
    "def get_references(query):\n",
    "    reference_ids = model.predict({\"QUERY\":query})\n",
    "    reference_ids = [itm[0] for itm in reference_ids]\n",
    "    references = [doclist.get_new_display_items().iloc[p] for p in reference_ids]\n",
    "    return references\n",
    "\n",
    "def get_answer(query, references):\n",
    "    return qa_chain.run(question=query, context_str='\\n\\n'.join(references[:3]), length=\"abt 50 words\")"
   ]
  },
  {
   "cell_type": "code",
   "execution_count": 45,
   "metadata": {},
   "outputs": [
    {
     "name": "stdout",
     "output_type": "stream",
     "text": [
      "['CONFIDENTIALITY AGREEMENT This Confidentiality Agreement (the “Agreement”) is made by and between ACME. dba ToTheMoon Inc. with offices at 2025 Guadalupe St. Suite 260 Austin TX 78705 and StarWars dba ToTheMars with offices at the forest moon of Endor and entered as of May 3 2023 (“Effective Date”).', 'In consideration of the business discussions disclosure of Confidential Information and any future business relationship between the parties it is hereby agreed as follows: 1. CONFIDENTIAL INFORMATION. For purposes of this Agreement the term “Confidential Information” shall mean any information business plan concept idea know-how process technique program design formula algorithm or work-in-process Request for Proposal (RFP) or Request for Information (RFI) and any responses thereto engineering manufacturing marketing technical financial data or sales information or information regarding suppliers customers employees investors or business operations and other information or materials whether disclosed in written graphic oral or electronic form whether tangible or intangible and in whatever form or medium provided or which is learned or disclosed in the course of discussions studies or other work undertaken between the parties prior to or after the Effective Date.', '12. ENTIRE AGREEMENT. This Agreement constitutes the entire agreement with respect to the subject matter hereof and supersedes all prior agreements and understandings between the parties (whether written or oral) relating to the subject matter and may not be amended or modified except in a writing signed by an authorized representative of both parties. The terms of this Agreement relating to the confidentiality and non-use of Confidential Information shall continue after the termination of this Agreement for a period of the longer of (i) five (5) years or (ii) when the Confidential Information no longer qualifies as a trade secret under applicable law.', '2. NEED TO KNOW. The receiving party shall limit its disclosure of the other party’s Confidential Information to those of its officers and employees and subcontractors (i) to which such disclosure is necessary for purposes of the discussions contemplated by this Agreement and (ii) who have agreed in writing to be bound by provisions no less restrictive than those set forth in this Agreement.', 'IN WITNESS WHEREOF this Agreement has been duly executed by the parties hereto as of the latest date set forth below: Acme Inc. StarWars Inc. By: By: Name: Bugs Bunny Name: Luke Skywalker Title: CEO Title: CEO Date: May 5 2023 Date: May 7 2023']\n"
     ]
    }
   ],
   "source": [
    "query = \"what is the effective date of this agreement?\"\n",
    "\n",
    "references = get_references(query)\n",
    "print(references)"
   ]
  },
  {
   "cell_type": "code",
   "execution_count": 46,
   "metadata": {},
   "outputs": [
    {
     "name": "stdout",
     "output_type": "stream",
     "text": [
      "The effective date of this Confidentiality Agreement is May 3, 2023 (ACME dba ToTheMoon Inc. and StarWars dba ToTheMars, 2023).\n"
     ]
    }
   ],
   "source": [
    "answer = get_answer(query, references)\n",
    "\n",
    "print(answer)"
   ]
  },
  {
   "attachments": {},
   "cell_type": "markdown",
   "metadata": {},
   "source": [
    "Now, let's ask a query that the model gets it wrong. Subsequently, let's teach the model to correct itself using our RLHF methods."
   ]
  },
  {
   "cell_type": "code",
   "execution_count": 52,
   "metadata": {},
   "outputs": [
    {
     "name": "stdout",
     "output_type": "stream",
     "text": [
      "The context provides insufficient information to determine the parties involved in this agreement.\n"
     ]
    }
   ],
   "source": [
    "query = \"who are the parties involved in this agreement?\"\n",
    "\n",
    "references = get_references(query)\n",
    "answer = get_answer(query, references)\n",
    "print(answer)"
   ]
  },
  {
   "attachments": {},
   "cell_type": "markdown",
   "metadata": {},
   "source": [
    "### How to teach your model (RLHF)\n",
    "\n",
    "This is one of the marquee features that we provide. Thanks to our efficient training capabilties, we can offer you to teach the retrieval model to correct itself in the event of it not being able to get the correct paragraphs from the document. \n",
    "\n",
    "Also, the RLHF teachings done a model will generalize beyond the current documents if we run *model.clear_index()* and introduce new documents. This is because our engine has an elastic output space that adapts to the contents of new documents.\n",
    "\n",
    "To do RLHF, we provide two functions:\n",
    "\n",
    "1. Associate: Using this function, you can associate two phrases to give similar results. For examples, assume you're in the contract review domain. And you're interested in asking a question like \"who are the parties involved in this contract?\". However, most contracts have the phrase \"made by and between\" to suggest the parties involved in the contracts (like \"this agreement is made by and between company A and company B\"). In this scenario, you can simply call *model.associate([\"parties involved\",\"made by and between\"])* and the model would learn the relation. In the subsequent documents, you're more likely to retrieve the passage containing the correct information.\n",
    "\n",
    "2. Upvote: Let's say you searched for a query \"is there a limited liability clause?\" and you got 5 search results (along with their passage IDs). If you know that the correct result is actually the 2nd one instead of the first one. Then you can simply call *model.upvote(\"is there a limited liability clause\",passage_id_of_the_best_search_result)*.\n",
    "\n",
    "We provide two interfaces to do the teaching.\n",
    "\n",
    "1. You can simply teach the model as shown below in python with model.associate() and model.upvote() calls. Refer to the \"RLHF using Python functions\".\n",
    "\n",
    "2. You can save a checkpoint of your trained model and export it to our Playground web-app to do QnA and teaching on an intuitive UI."
   ]
  },
  {
   "attachments": {},
   "cell_type": "markdown",
   "metadata": {},
   "source": [
    "### Option 1. RLHF using function calls \n",
    "\n",
    "In the above example, the model could not understand that the phrase \"date of signing\". But if you are an expert in contracts, you know that \"date of signing\" usually goes with phrases like \"duly executed\" (for example, \"this Agreement has been duly executed by the parties hereto as of the latest date set forth below ...\"). So, let's teach the model that these two phrases should retrieve similar passages."
   ]
  },
  {
   "cell_type": "code",
   "execution_count": 53,
   "metadata": {},
   "outputs": [],
   "source": [
    "rlhf_samples = [({\"QUERY\":\"parties involved\"},{\"QUERY\":\"made by and between\"})]\n",
    "\n",
    "model.associate(rlhf_samples, 7)"
   ]
  },
  {
   "attachments": {},
   "cell_type": "markdown",
   "metadata": {},
   "source": [
    "Now, let's query the model again"
   ]
  },
  {
   "cell_type": "code",
   "execution_count": 54,
   "metadata": {},
   "outputs": [
    {
     "name": "stdout",
     "output_type": "stream",
     "text": [
      "The parties involved in this agreement are ACME, dba ToTheMoon Inc. with offices at 2025 Guadalupe St. Suite 260 Austin TX 78705 and StarWars dba ToTheMars with offices at the forest moon of Endor (Confidentiality Agreement).\n"
     ]
    }
   ],
   "source": [
    "query = \"who are the parties involved in this agreement?\"\n",
    "\n",
    "references = get_references(query)\n",
    "answer = get_answer(query, references)\n",
    "print(answer)"
   ]
  },
  {
   "attachments": {},
   "cell_type": "markdown",
   "metadata": {},
   "source": [
    "There you go!!"
   ]
  },
  {
   "attachments": {},
   "cell_type": "markdown",
   "metadata": {},
   "source": [
    "### Option 2: Export your model to Playground App\n",
    "\n",
    "ThirdAI's playground is a dockerized Gradio app that you can run on your laptop and use any model checkpoint to do QnA and teach using the above mentioned functions. \n",
    "\n",
    "Before you save your checkpoint, please go through the following short video tutorial to install Docker Desktop and download our image and run the webapp through a container.\n",
    "\n",
    "https://drive.google.com/file/d/16tI1OAm2Lu0OuUOCiJzGrTjiBZejJWs3/view"
   ]
  },
  {
   "cell_type": "code",
   "execution_count": null,
   "metadata": {},
   "outputs": [],
   "source": [
    "## Coming Soon"
   ]
  },
  {
   "attachments": {},
   "cell_type": "markdown",
   "metadata": {},
   "source": [
    "After you save the checkpoint, please copy the .zip file to the folder from where you're running the docker container. And then go through this short video tutorial to do QnA and teach.\n",
    "\n",
    "https://drive.google.com/file/d/1WIt2-EpYkQJpFgFiUXbc_iYU9uhOJdMn/view"
   ]
  }
 ],
 "metadata": {
  "kernelspec": {
   "display_name": "base",
   "language": "python",
   "name": "python3"
  },
  "language_info": {
   "codemirror_mode": {
    "name": "ipython",
    "version": 3
   },
   "file_extension": ".py",
   "mimetype": "text/x-python",
   "name": "python",
   "nbconvert_exporter": "python",
   "pygments_lexer": "ipython3",
   "version": "3.10.10"
  },
  "orig_nbformat": 4
 },
 "nbformat": 4,
 "nbformat_minor": 2
}
