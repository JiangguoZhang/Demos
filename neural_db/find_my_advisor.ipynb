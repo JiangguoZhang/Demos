{
 "cells": [
  {
   "cell_type": "markdown",
   "metadata": {},
   "source": [
    "## ThirdAI's NeuralDB\n",
    "\n",
    "First let's import the relevant module and initialize a neural db class."
   ]
  },
  {
   "cell_type": "code",
   "execution_count": 1,
   "metadata": {
    "ExecuteTime": {
     "end_time": "2023-06-24T20:50:35.740378056Z",
     "start_time": "2023-06-24T20:50:35.550700424Z"
    }
   },
   "outputs": [
    {
     "name": "stdout",
     "output_type": "stream",
     "text": [
      "Python 3.9.16\r\n"
     ]
    }
   ],
   "source": [
    "!python --version"
   ]
  },
  {
   "cell_type": "code",
   "execution_count": 1,
   "metadata": {
    "ExecuteTime": {
     "end_time": "2023-06-24T20:59:20.210224032Z",
     "start_time": "2023-06-24T20:59:19.239926976Z"
    }
   },
   "outputs": [],
   "source": [
    "from thirdai import licensing\n",
    "licensing.deactivate()\n",
    "licensing.activate(\"\")\n",
    "\n",
    "from thirdai import neural_db as ndb\n",
    "\n",
    "db = ndb.NeuralDB(user_id=\"my_user\") # you can use any username, in the future, this username will let you push models to the model hub"
   ]
  },
  {
   "cell_type": "markdown",
   "metadata": {},
   "source": [
    "### Initialize\n",
    "\n",
    "At this point, the db is uninitialized.\n",
    "\n",
    "##### Option 1: We can either initialize from scratch like this"
   ]
  },
  {
   "cell_type": "code",
   "execution_count": 3,
   "metadata": {
    "ExecuteTime": {
     "end_time": "2023-06-24T19:18:44.511682531Z",
     "start_time": "2023-06-24T19:18:44.505645388Z"
    }
   },
   "outputs": [],
   "source": [
    "db.from_scratch()"
   ]
  },
  {
   "cell_type": "markdown",
   "metadata": {},
   "source": [
    "##### Option 2: Or even load from a base DB that we provide, as shown below"
   ]
  },
  {
   "cell_type": "code",
   "execution_count": 3,
   "metadata": {
    "ExecuteTime": {
     "end_time": "2023-06-24T20:50:51.648266616Z",
     "start_time": "2023-06-24T20:50:50.006899944Z"
    }
   },
   "outputs": [],
   "source": [
    "import os\n",
    "\n",
    "checkpoint = \"qna_db_1\"\n",
    "\n",
    "if not os.path.exists(checkpoint):\n",
    "    os.system(\"wget -O qna_db_1.zip 'https://www.dropbox.com/scl/fi/s1zhxmwjpayj5jphzct0p/qna_1_db.zip?dl=0&rlkey=ftcgrzt1rpc2d6hx0iuk1lz1r'\")\n",
    "    os.system(\"unzip qna_db_1.zip -d qna_db_1\")\n",
    "\n",
    "db.from_checkpoint(\"qna_db_1\")"
   ]
  },
  {
   "cell_type": "code",
   "execution_count": 4,
   "outputs": [],
   "source": [
    "db.from_checkpoint(\"sample_faculties.db\")"
   ],
   "metadata": {
    "collapsed": false,
    "ExecuteTime": {
     "end_time": "2023-06-24T20:59:51.009420002Z",
     "start_time": "2023-06-24T20:59:49.260517361Z"
    }
   }
  },
  {
   "cell_type": "markdown",
   "source": [],
   "metadata": {
    "collapsed": false
   }
  },
  {
   "cell_type": "markdown",
   "metadata": {},
   "source": [
    "### Prep CSV data\n",
    "\n",
    "Let's insert things into it!\n",
    "\n",
    "Currently, we support adding as many CSV files as you wish. All other file formats have to be converted into CSV files where each row represents a paragraph/text-chunk of the document.\n",
    "\n",
    "You can use url_to_csv.py to convert a webpage to a CSV file.\n",
    "\n",
    "The file is required to have a column named \"DOC_ID\" with rows numbered from 0 to n_rows-1."
   ]
  },
  {
   "cell_type": "code",
   "execution_count": 27,
   "metadata": {
    "ExecuteTime": {
     "end_time": "2023-06-24T21:03:41.623131708Z",
     "start_time": "2023-06-24T21:03:41.588529004Z"
    }
   },
   "outputs": [],
   "source": [
    "from utils import CSV\n",
    "\n",
    "csv_files = ['faculties2.csv']\n",
    "csv_docs = []\n",
    "\n",
    "for file in csv_files:\n",
    "    csv_doc = CSV(\n",
    "        path=file,\n",
    "        id_column=\"DOC_ID\",\n",
    "        strong_columns=[\"text\"],\n",
    "        weak_columns=[\"url\"],\n",
    "        reference_columns=[\"text\"])\n",
    "\n",
    "    csv_docs.append(csv_doc)\n"
   ]
  },
  {
   "cell_type": "markdown",
   "metadata": {},
   "source": [
    "### Insert CSV files into NeuralDB and train"
   ]
  },
  {
   "cell_type": "code",
   "execution_count": 28,
   "metadata": {
    "ExecuteTime": {
     "end_time": "2023-06-24T21:05:28.259863865Z",
     "start_time": "2023-06-24T21:03:44.107615947Z"
    }
   },
   "outputs": [
    {
     "name": "stdout",
     "output_type": "stream",
     "text": [
      "loaded data | source 'Documents:\n",
      "faculties2.csv' | vectors 8348 | batches 5 | time 0s | complete\n",
      "\n",
      "train | epoch 0 | train_steps 2671 | train_hash_precision@5=0.853162  | train_batches 5 | time 3s\n",
      "\n",
      "loaded data | source 'Documents:\n",
      "faculties2.csv' | vectors 8348 | batches 5 | time 0s | complete\n",
      "\n",
      "train | epoch 0 | train_steps 2676 | train_hash_precision@5=0.843723  | train_batches 5 | time 3s\n",
      "\n",
      "loaded data | source 'Documents:\n",
      "faculties2.csv' | vectors 8348 | batches 5 | time 0s | complete\n",
      "\n",
      "train | epoch 0 | train_steps 2681 | train_hash_precision@5=0.851725  | train_batches 5 | time 3s\n",
      "\n",
      "loaded data | source 'Documents:\n",
      "faculties2.csv' | vectors 8348 | batches 5 | time 0s | complete\n",
      "\n",
      "train | epoch 0 | train_steps 2686 | train_hash_precision@5=0.879133  | train_batches 5 | time 3s\n",
      "\n",
      "loaded data | source 'Documents:\n",
      "faculties2.csv' | vectors 8348 | batches 5 | time 0s | complete\n",
      "\n",
      "train | epoch 0 | train_steps 2691 | train_hash_precision@5=0.870748  | train_batches 5 | time 3s\n",
      "\n",
      "loaded data | source 'Documents:\n",
      "faculties2.csv' | vectors 8348 | batches 5 | time 0s | complete\n",
      "\n",
      "train | epoch 0 | train_steps 2696 | train_hash_precision@5=0.883182  | train_batches 5 | time 3s\n",
      "\n",
      "loaded data | source 'Documents:\n",
      "faculties2.csv' | vectors 8348 | batches 5 | time 0s | complete\n",
      "\n",
      "train | epoch 0 | train_steps 2701 | train_hash_precision@5=0.894514  | train_batches 5 | time 3s\n",
      "\n",
      "loaded data | source 'Documents:\n",
      "faculties2.csv' | vectors 8348 | batches 5 | time 0s | complete\n",
      "\n",
      "train | epoch 0 | train_steps 2706 | train_hash_precision@5=0.883589  | train_batches 5 | time 3s\n",
      "\n",
      "loaded data | source 'Documents:\n",
      "faculties2.csv' | vectors 8348 | batches 5 | time 0s | complete\n",
      "\n",
      "train | epoch 0 | train_steps 2711 | train_hash_precision@5=0.873047  | train_batches 5 | time 3s\n",
      "\n",
      "loaded data | source 'Documents:\n",
      "faculties2.csv' | vectors 8348 | batches 5 | time 0s | complete\n",
      "\n",
      "train | epoch 0 | train_steps 2716 | train_hash_precision@5=0.895807  | train_batches 5 | time 3s\n",
      "\n",
      "loaded data | source 'Documents:\n",
      "faculties2.csv' | vectors 8348 | batches 5 | time 0s | complete\n",
      "\n",
      "train | epoch 0 | train_steps 2721 | train_hash_precision@5=0.890105  | train_batches 5 | time 3s\n",
      "\n",
      "loaded data | source 'Documents:\n",
      "faculties2.csv' | vectors 8348 | batches 5 | time 0s | complete\n",
      "\n",
      "train | epoch 0 | train_steps 2726 | train_hash_precision@5=0.882679  | train_batches 5 | time 3s\n",
      "\n",
      "loaded data | source 'Documents:\n",
      "faculties2.csv' | vectors 8348 | batches 5 | time 0s | complete\n",
      "\n",
      "train | epoch 0 | train_steps 2731 | train_hash_precision@5=0.894945  | train_batches 5 | time 3s\n",
      "\n",
      "loaded data | source 'Documents:\n",
      "faculties2.csv' | vectors 8348 | batches 5 | time 0s | complete\n",
      "\n",
      "train | epoch 0 | train_steps 2736 | train_hash_precision@5=0.892501  | train_batches 5 | time 3s\n",
      "\n",
      "loaded data | source 'Documents:\n",
      "faculties2.csv' | vectors 8348 | batches 5 | time 0s | complete\n",
      "\n",
      "train | epoch 0 | train_steps 2741 | train_hash_precision@5=0.913105  | train_batches 5 | time 3s\n",
      "\n",
      "loaded data | source 'Documents:\n",
      "faculties2.csv' | vectors 8348 | batches 5 | time 0s | complete\n",
      "\n",
      "train | epoch 0 | train_steps 2746 | train_hash_precision@5=0.895017  | train_batches 5 | time 3s\n",
      "\n",
      "loaded data | source 'Documents:\n",
      "faculties2.csv' | vectors 8348 | batches 5 | time 0s | complete\n",
      "\n",
      "train | epoch 0 | train_steps 2751 | train_hash_precision@5=0.899281  | train_batches 5 | time 3s\n",
      "\n",
      "loaded data | source 'Documents:\n",
      "faculties2.csv' | vectors 8348 | batches 5 | time 0s | complete\n",
      "\n",
      "train | epoch 0 | train_steps 2756 | train_hash_precision@5=0.90563  | train_batches 5 | time 3s\n",
      "\n",
      "loaded data | source 'Documents:\n",
      "faculties2.csv' | vectors 8348 | batches 5 | time 0s | complete\n",
      "\n",
      "train | epoch 0 | train_steps 2761 | train_hash_precision@5=0.900431  | train_batches 5 | time 3s\n",
      "\n",
      "loaded data | source 'Documents:\n",
      "faculties2.csv' | vectors 8348 | batches 5 | time 0s | complete\n",
      "\n",
      "train | epoch 0 | train_steps 2766 | train_hash_precision@5=0.905151  | train_batches 5 | time 3s\n",
      "\n"
     ]
    }
   ],
   "source": [
    "source_ids = db.insert(csv_docs, train=True)"
   ]
  },
  {
   "cell_type": "markdown",
   "metadata": {},
   "source": [
    "### Search\n",
    "\n",
    "Now let's start searching."
   ]
  },
  {
   "cell_type": "code",
   "execution_count": null,
   "metadata": {
    "is_executing": true,
    "ExecuteTime": {
     "start_time": "2023-06-24T21:05:40.810063855Z"
    }
   },
   "outputs": [
    {
     "name": "stdout",
     "output_type": "stream",
     "text": [
      "loaded data | source 'Documents:\n",
      "faculties2.csv' | vectors 8348 | batches 5 | time 0s | complete\n",
      "\n",
      "train: [                                                  ] 0%          "
     ]
    }
   ],
   "source": [
    "source_ids = db.insert(csv_docs, train=True)"
   ]
  },
  {
   "cell_type": "code",
   "execution_count": 5,
   "metadata": {
    "ExecuteTime": {
     "end_time": "2023-06-24T21:00:03.339682715Z",
     "start_time": "2023-06-24T21:00:03.328774435Z"
    }
   },
   "outputs": [
    {
     "name": "stdout",
     "output_type": "stream",
     "text": [
      "towards these aims, tang uses statistical mechanics, information theory, and dynamical theory to characterize emergent function. she particularly enjoys using topology and geometry to predict robust dynamics in novel and accessible platforms, from quantum to biological systems. other interests include learning and optimal navigation, as well as information flow in fluids, networks and active matter.\n",
      "https://profiles.rice.edu/faculty/evelyn-tang\n",
      "************\n",
      "her research focus is in computational biology, where she develops machine learning and statistical methods to improve our understanding of the biological circuitry that underlies living organisms and how its dysregulation may lead to disease. more specifically, she has worked on modeling tissue and cell type specificity as well as disease progression, both by developing general methods (such as semi-supervised network integration) and in applying them to decipher the molecular underpinnings of\n",
      "https://profiles.rice.edu/faculty/vicky-yao\n",
      "************\n",
      "such synthetic networks are highly valuable to many synthetic biology applications, such as metabolic engineering and creation of biological diagnostics. finally, rna regulators are potentially highly transferable across bacterial species because they depend on universal base pairing interactions between nucleotides and require minimal cellular machinery. therefore, rna is potentially a powerful molecule for harnessing the diversity of the bacteria domain of life.\n",
      "https://profiles.rice.edu/faculty/james-chappell\n",
      "************\n",
      "vicente ordóñez-román is associate professor in the department of computer science at rice university. his research interests lie at the intersection of computer vision, natural language processing and machine learning. his focus is on building efficient visual recognition models that can perform tasks that leverage both images and text.\n",
      "https://profiles.rice.edu/faculty/vicente-ordonez-roman\n",
      "************\n",
      "2018 best poster award, midwest machine learning symposium (mmls) 2018 best poster presentation award, 7th midwest workshop on control and game theory 2018 best talk award machine learning session, csl student conference 2016 best presentation learning and estimation in networks session, american control conference 2016 outstanding poster award, stochastic networks conference 2016 best talk award security session, csl student conference\n",
      "https://profiles.rice.edu/faculty/cesar-uribe\n",
      "************\n",
      "dr. hassanzadeh studies turbulent flows and chaotic dynamical systems in complex natural phenomena and engineering systems using numerical, mathematical, and deep learning methods, guided by observational and experimental data. his work is often motivated by theoretical and applied problems related to environment and energy. examples of problems of interest are environmental and geophysical flows, extreme weather events (e.g., heat waves, hurricanes), reduced-order modeling, atmospheric\n",
      "https://profiles.rice.edu/faculty/pedram-hassanzadeh\n",
      "************\n",
      "implementations. currently, the xie group is mainly interested in applying advanced nanoelectronic devices to various neural systems. ongoing projects include high-density neural probes for brain activity mapping, more biocompatible neural probes for chronically stable brain-machine interface, and 3d neuronal culture - nanoelectronics hybrid for an in vitro 'brain-like' model system.\n",
      "https://profiles.rice.edu/faculty/chong-xie\n",
      "************\n",
      "website(s)| research site research areas artificial intelligence, statistical machine learning, natural language processing, algorithms and tools for predictive modeling in engineering and in the natural and social sciences: hurricane wind damage risk, clinical cardiology, signaling networks in systems biology, conflict prediction from wire news education phd, computer science, stanford university 1(989) ms, computer science, stanford university (1984)\n",
      "https://profiles.rice.edu/faculty/devika-subramanian\n",
      "************\n",
      "research statement drezek’s optical molecular imaging and nanobiotechnology laboratory approaches projects from an interdisciplinary perspective and actively collaborates with clinicians, molecular biologists, biochemists, and other researchers located within rice and the texas medical center.\n",
      "https://profiles.rice.edu/faculty/rebekah-drezek\n",
      "************\n",
      "damian young is a assistant director for the center for drug discovery at baylor college of medicine. he is also a faculty member within the departments of pharmacology and pathology and immunology. his research focuses on the development of chemical pathways leading to molecules that can be used to probe fundamental and disease-associated biology. his lab is pioneering new chemical and biophysical methodologies related to fragment-based drug discovery to be deployed against challenging targets\n",
      "https://profiles.rice.edu/faculty/damian-young\n",
      "************\n"
     ]
    }
   ],
   "source": [
    "search_results = db.search(\n",
    "    query=\"who works on machine learning and biology\",\n",
    "    top_k=10,\n",
    "    on_error=lambda error_msg: print(f\"Error! {error_msg}\"))\n",
    "\n",
    "for result in search_results:\n",
    "    print(result.text())\n",
    "    print(result.metadata()['url'])\n",
    "    # print(result.context(radius=3))\n",
    "    # print(result.source())\n",
    "    # result.show()\n",
    "    print('************')"
   ]
  },
  {
   "cell_type": "markdown",
   "metadata": {},
   "source": [
    "Oops! looks like when we search for \"parties involved\", we do not get the correct paragraph in the 1st position (we should be expecting the first paragraph as the correct results instead fo the last).\n",
    "\n",
    "No worries, we'll show shot to teach the model to correct it's retrieval.\n",
    "\n",
    "### RLHF\n",
    "\n",
    "Let's go over some of NeuralDB's advanced features. The first one is text-to-text association. This allows you to teach the model that two keywords, phrases, or concepts are related.\n",
    "\n",
    "Based on the above example, let's teach the model that \"machine learning\" and the phrase \"deep learning\" are the same."
   ]
  },
  {
   "cell_type": "code",
   "execution_count": 6,
   "metadata": {
    "ExecuteTime": {
     "end_time": "2023-06-24T21:00:07.648820427Z",
     "start_time": "2023-06-24T21:00:07.644911227Z"
    }
   },
   "outputs": [],
   "source": [
    "db.associate(source=\"machine learning\", target=\"deep learning\")"
   ]
  },
  {
   "cell_type": "code",
   "execution_count": 7,
   "metadata": {
    "ExecuteTime": {
     "end_time": "2023-06-24T21:00:08.824347629Z",
     "start_time": "2023-06-24T21:00:08.816863388Z"
    }
   },
   "outputs": [
    {
     "name": "stdout",
     "output_type": "stream",
     "text": [
      "religion: secret religion. macmillan interdisciplinary handbooks. farmington hills: gale cengage learning, 2016. histories of the hidden god: concealment and revelation in western gnostic, esoteric, and mystical traditions. gnostica series. durham: acumen, 2013. with grant adamson\n",
      "https://profiles.rice.edu/faculty/april-deconick\n",
      "************\n",
      "her research focus is in computational biology, where she develops machine learning and statistical methods to improve our understanding of the biological circuitry that underlies living organisms and how its dysregulation may lead to disease. more specifically, she has worked on modeling tissue and cell type specificity as well as disease progression, both by developing general methods (such as semi-supervised network integration) and in applying them to decipher the molecular underpinnings of\n",
      "https://profiles.rice.edu/faculty/vicky-yao\n",
      "************\n",
      "such synthetic networks are highly valuable to many synthetic biology applications, such as metabolic engineering and creation of biological diagnostics. finally, rna regulators are potentially highly transferable across bacterial species because they depend on universal base pairing interactions between nucleotides and require minimal cellular machinery. therefore, rna is potentially a powerful molecule for harnessing the diversity of the bacteria domain of life.\n",
      "https://profiles.rice.edu/faculty/james-chappell\n",
      "************\n",
      "towards these aims, tang uses statistical mechanics, information theory, and dynamical theory to characterize emergent function. she particularly enjoys using topology and geometry to predict robust dynamics in novel and accessible platforms, from quantum to biological systems. other interests include learning and optimal navigation, as well as information flow in fluids, networks and active matter.\n",
      "https://profiles.rice.edu/faculty/evelyn-tang\n",
      "************\n",
      "vicente ordóñez-román is associate professor in the department of computer science at rice university. his research interests lie at the intersection of computer vision, natural language processing and machine learning. his focus is on building efficient visual recognition models that can perform tasks that leverage both images and text.\n",
      "https://profiles.rice.edu/faculty/vicente-ordonez-roman\n",
      "************\n",
      "data science for networks. modeling, analysis, and design of networked systems. signal processing, machine learning, optimization, and algebraic topology applied to the understanding of networks and network data. topics of interest include clustering in social and technological networks, authorship attribution problems, abstract representations of network data structures, networks in neuroscience, linear and nonlinear network dynamics, social networks and team dynamics, and processing of signals\n",
      "https://profiles.rice.edu/faculty/santiago-segarra\n",
      "************\n",
      "website(s)| personal website research areas mechanism design/ auction theory, economics of privacy, social networks/ social learning, and statistical decision theory education ph.d., managerial economics and strategy, northwestern university, 2010 b.tech., computer science and engineering, indian institute of technology, 2004\n",
      "https://profiles.rice.edu/faculty/mallesh-pai\n",
      "************\n",
      "prior to joining rice, ms. o’sullivan was manager of corporate communication and investor relations for oceaneering international, inc., an offshore services company, for eight years. ms. o’sullivan also spent one year serving as corporate communication manager for a houston-based exploration and production company. she maintains an active consulting practice working with executives to develop their interpersonal communication and public speaking skills, and develops customized executive\n",
      "https://profiles.rice.edu/faculty/elizabeth-osullivan\n",
      "************\n",
      "2018 best poster award, midwest machine learning symposium (mmls) 2018 best poster presentation award, 7th midwest workshop on control and game theory 2018 best talk award machine learning session, csl student conference 2016 best presentation learning and estimation in networks session, american control conference 2016 outstanding poster award, stochastic networks conference 2016 best talk award security session, csl student conference\n",
      "https://profiles.rice.edu/faculty/cesar-uribe\n",
      "************\n",
      "he has been coaching intercollegiate speech and debate since 1993. he has taught a wide variety of students, from high school to traditional and \"nontraditional\" community college and university students, to military personnel both at home and abroad.\n",
      "https://profiles.rice.edu/faculty/david-worth\n",
      "************\n"
     ]
    }
   ],
   "source": [
    "search_results = db.search(\n",
    "    query=\"who works on machine learning and biology\",\n",
    "    top_k=10,\n",
    "    on_error=lambda error_msg: print(f\"Error! {error_msg}\"))\n",
    "\n",
    "for result in search_results:\n",
    "    print(result.text())\n",
    "    print(result.metadata()['url'])\n",
    "    # print(result.context(radius=3))\n",
    "    # print(result.source())\n",
    "    # result.show()\n",
    "    print('************')"
   ]
  },
  {
   "cell_type": "markdown",
   "metadata": {},
   "source": [
    "### Get Answers from OpenAI using Langchain\n",
    "\n",
    "In this section, we will show how to use LangChain and query OpenAI's QnA module to generate an answer from the references that you retrieve from the above DB. You'll have to specify your own OpenAI key for this module to work. You can replace this segment with any other generative model of your choice. You can choose to use an source model like MPT or Dolly for answer generation with the same prompt that you use with OpenAI."
   ]
  },
  {
   "cell_type": "code",
   "execution_count": 8,
   "metadata": {
    "ExecuteTime": {
     "end_time": "2023-06-24T21:00:15.527644111Z",
     "start_time": "2023-06-24T21:00:14.770047910Z"
    }
   },
   "outputs": [],
   "source": [
    "from langchain.chat_models import ChatOpenAI\n",
    "from paperqa.qaprompts import qa_prompt, make_chain\n",
    "\n",
    "your_openai_key = \"\"\n",
    "llm = ChatOpenAI(\n",
    "    model_name='gpt-3.5-turbo',\n",
    "    temperature=0.1,\n",
    "    openai_api_key=your_openai_key,\n",
    ")\n",
    "\n",
    "qa_chain = make_chain(prompt=qa_prompt, llm=llm)"
   ]
  },
  {
   "cell_type": "code",
   "execution_count": 24,
   "metadata": {
    "ExecuteTime": {
     "end_time": "2023-06-24T21:03:11.089414359Z",
     "start_time": "2023-06-24T21:03:11.083492537Z"
    }
   },
   "outputs": [],
   "source": [
    "def get_references(query):\n",
    "    search_results = db.search(query,top_k=5)\n",
    "    references = []\n",
    "    for result in search_results:\n",
    "        references.append(result.text())\n",
    "    return references\n",
    "\n",
    "def get_answer(query, references):\n",
    "    return qa_chain.run(question=query, context_str='\\n\\n'.join(references[:3]), length=\"abt 50 words\")"
   ]
  },
  {
   "cell_type": "code",
   "execution_count": 25,
   "metadata": {
    "ExecuteTime": {
     "end_time": "2023-06-24T21:03:11.635729795Z",
     "start_time": "2023-06-24T21:03:11.632261106Z"
    }
   },
   "outputs": [
    {
     "name": "stdout",
     "output_type": "stream",
     "text": [
      "['religion: secret religion. macmillan interdisciplinary handbooks. farmington hills: gale cengage learning, 2016. histories of the hidden god: concealment and revelation in western gnostic, esoteric, and mystical traditions. gnostica series. durham: acumen, 2013. with grant adamson', 'her research focus is in computational biology, where she develops machine learning and statistical methods to improve our understanding of the biological circuitry that underlies living organisms and how its dysregulation may lead to disease. more specifically, she has worked on modeling tissue and cell type specificity as well as disease progression, both by developing general methods (such as semi-supervised network integration) and in applying them to decipher the molecular underpinnings of', 'such synthetic networks are highly valuable to many synthetic biology applications, such as metabolic engineering and creation of biological diagnostics. finally, rna regulators are potentially highly transferable across bacterial species because they depend on universal base pairing interactions between nucleotides and require minimal cellular machinery. therefore, rna is potentially a powerful molecule for harnessing the diversity of the bacteria domain of life.', 'towards these aims, tang uses statistical mechanics, information theory, and dynamical theory to characterize emergent function. she particularly enjoys using topology and geometry to predict robust dynamics in novel and accessible platforms, from quantum to biological systems. other interests include learning and optimal navigation, as well as information flow in fluids, networks and active matter.', 'vicente ordóñez-román is associate professor in the department of computer science at rice university. his research interests lie at the intersection of computer vision, natural language processing and machine learning. his focus is on building efficient visual recognition models that can perform tasks that leverage both images and text.']\n"
     ]
    }
   ],
   "source": [
    "query = \"who works on machine learning and biology\"\n",
    "\n",
    "references = get_references(query)\n",
    "print(references)"
   ]
  },
  {
   "cell_type": "code",
   "execution_count": 26,
   "metadata": {
    "ExecuteTime": {
     "end_time": "2023-06-24T21:03:20.896760433Z",
     "start_time": "2023-06-24T21:03:12.551255591Z"
    }
   },
   "outputs": [
    {
     "name": "stdout",
     "output_type": "stream",
     "text": [
      "The researcher mentioned in the context works on computational biology and develops machine learning and statistical methods to improve our understanding of biological circuitry (no source needed).\n"
     ]
    }
   ],
   "source": [
    "answer = get_answer(query, references)\n",
    "\n",
    "print(answer)"
   ]
  },
  {
   "cell_type": "markdown",
   "metadata": {},
   "source": [
    "### Load and Save\n",
    "As usual, saving and loading the DB are one-liners."
   ]
  },
  {
   "cell_type": "code",
   "execution_count": 15,
   "metadata": {
    "ExecuteTime": {
     "end_time": "2023-06-24T20:58:00.198654535Z",
     "start_time": "2023-06-24T20:57:56.841723729Z"
    }
   },
   "outputs": [
    {
     "name": "stdout",
     "output_type": "stream",
     "text": [
      "0.16666666666666666% done with loading.\n",
      "0.3333333333333333% done with loading.\n",
      "0.5% done with loading.\n",
      "0.6666666666666666% done with loading.\n",
      "0.8333333333333334% done with loading.\n",
      "1.0% done with loading.\n"
     ]
    }
   ],
   "source": [
    "# save your db\n",
    "db.save(\"sample_faculties.db\")\n",
    "\n",
    "# Loading is just like we showed above, with an optional progress handler\n",
    "db.from_checkpoint(\"sample_faculties.db\", on_progress=lambda fraction: print(f\"{fraction}% done with loading.\"))"
   ]
  },
  {
   "cell_type": "markdown",
   "metadata": {},
   "source": [
    "### Export to Playground\n",
    "\n",
    "Note: Currently, we support exporting to Playground UI with only 1 CSV file, if you have multiple CSV files, please watch out for our next release that will add support to export a NeuralDB directly into Playground."
   ]
  },
  {
   "cell_type": "code",
   "execution_count": null,
   "metadata": {},
   "outputs": [],
   "source": [
    "from export_utils import neural_db_to_playground\n",
    "\n",
    "neural_db_to_playground(db, './sample_faculties/', csv=csv_doc)"
   ]
  },
  {
   "cell_type": "markdown",
   "metadata": {},
   "source": []
  }
 ],
 "metadata": {
  "kernelspec": {
   "display_name": "Python 3 (ipykernel)",
   "language": "python",
   "name": "python3"
  },
  "language_info": {
   "codemirror_mode": {
    "name": "ipython",
    "version": 3
   },
   "file_extension": ".py",
   "mimetype": "text/x-python",
   "name": "python",
   "nbconvert_exporter": "python",
   "pygments_lexer": "ipython3",
   "version": "3.9.16"
  }
 },
 "nbformat": 4,
 "nbformat_minor": 1
}
