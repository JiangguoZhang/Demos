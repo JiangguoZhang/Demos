{
 "cells": [
  {
   "cell_type": "code",
   "execution_count": null,
   "metadata": {},
   "outputs": [],
   "source": [
    "from beir import util\n",
    "from beir.datasets.data_loader import GenericDataLoader\n",
    "from beir.retrieval.evaluation import EvaluateRetrieval"
   ]
  },
  {
   "cell_type": "code",
   "execution_count": null,
   "metadata": {},
   "outputs": [],
   "source": [
    "from thirdai.demos import download_beir_dataset\n",
    "\n",
    "#### dataset and filenames for UDT\n",
    "\n",
    "dataset = \"scifact\"\n",
    "unsup_file, sup_train_file, sup_test_file, n_target_classes = download_beir_dataset(dataset)"
   ]
  },
  {
   "cell_type": "code",
   "execution_count": null,
   "metadata": {},
   "outputs": [],
   "source": [
    "from thirdai import bolt,licensing\n",
    "\n",
    "licensing.activate('8E46E4-653FD6-AA2B02-65E265-A4FACA-V3')\n",
    "\n",
    "model = bolt.UniversalDeepTransformer(\n",
    "    data_types={\n",
    "        \"QUERY\": bolt.types.text(),\n",
    "        \"DOC_ID\": bolt.types.categorical(delimiter=':'),\n",
    "    },\n",
    "    target=\"DOC_ID\",\n",
    "    n_target_classes=n_target_classes,\n",
    "    integer_target=True,\n",
    "    model_config='./configs/embeddings_and_cold_start.config',\n",
    ")"
   ]
  },
  {
   "cell_type": "code",
   "execution_count": null,
   "metadata": {},
   "outputs": [],
   "source": [
    "model.cold_start(\n",
    "    filename=unsup_file,\n",
    "    strong_column_names=[\"TITLE\"],\n",
    "    weak_column_names=[\"TEXT\"],\n",
    "    learning_rate=0.001,\n",
    "    epochs=5,\n",
    ")\n",
    "\n",
    "activations = model.evaluate(sup_test_file, metrics=['categorical_accuracy','recall@100'])"
   ]
  },
  {
   "cell_type": "code",
   "execution_count": null,
   "metadata": {},
   "outputs": [],
   "source": [
    "model.train(\n",
    "    filename=sup_train_file,\n",
    "    learning_rate=0.001,\n",
    "    epochs=5,\n",
    ")\n",
    "\n",
    "activations = model.evaluate(sup_test_file, metrics=['categorical_accuracy','recall@100'])"
   ]
  },
  {
   "cell_type": "code",
   "execution_count": null,
   "metadata": {},
   "outputs": [],
   "source": [
    "model.save('./scidocs.model')\n",
    "\n",
    "model = bolt.UniversalDeepTransformer.load('./scidocs.model')"
   ]
  }
 ],
 "metadata": {
  "kernelspec": {
   "display_name": "Python 3.8.10 64-bit",
   "language": "python",
   "name": "python3"
  },
  "language_info": {
   "name": "python",
   "version": "3.8.10"
  },
  "orig_nbformat": 4,
  "vscode": {
   "interpreter": {
    "hash": "31f2aee4e71d21fbe5cf8b01ff0e069b9275f58929596ceb00d14d90e3e16cd6"
   }
  }
 },
 "nbformat": 4,
 "nbformat_minor": 2
}
