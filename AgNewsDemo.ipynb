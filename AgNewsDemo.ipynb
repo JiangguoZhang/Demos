{
 "cells": [
  {
   "cell_type": "markdown",
   "metadata": {},
   "source": [
    "# Pre-training and fine-tuning an LLM on CPU on AG News with ThirdAI's UDT\n",
    "\n",
    "In this notebook, we will pre-train an LLM from scratch on the popular AG News Dataset (https://www.kaggle.com/datasets/amananandrai/ag-news-classification-dataset) using ThirdAI's Universal Deep Transformer (UDT). We will demonstrate how UDT can just pre-train on a small dataset and outperform the Semantic Search offering of OpenAI. \n",
    "\n",
    "This demo shows that one-model for all is sub-optimal and pre-training/fine-tuning on specific downstream datasets is required to get the best results.\n",
    "\n",
    "While most LLMs cannot be fine-tuned even on a powerful GPU, ThirdAI's UDT can train a billion parameter model on just a moderate CPU in few minutes."
   ]
  },
  {
   "cell_type": "markdown",
   "metadata": {},
   "source": [
    "### Import thirdai and activate license"
   ]
  },
  {
   "cell_type": "code",
   "execution_count": null,
   "metadata": {},
   "outputs": [],
   "source": [
    "from thirdai import bolt,licensing\n",
    "\n",
    "licensing.activate('71FC4B-F20E8F-D7C39E-4E936C-404BC9-V3')"
   ]
  },
  {
   "cell_type": "markdown",
   "metadata": {},
   "source": [
    "### Download and process the dataset into a csv file."
   ]
  },
  {
   "cell_type": "code",
   "execution_count": null,
   "metadata": {},
   "outputs": [],
   "source": [
    "from thirdai.demos import download_agnews_dataset\n",
    "\n",
    "corpus_file = './datasets/agnews.csv'\n",
    "n_target_classes = download_agnews_dataset(corpus_file)"
   ]
  },
  {
   "cell_type": "markdown",
   "metadata": {},
   "source": [
    "In the above step, *corpus_file* refers to the corpus file with document id and text. We can have even more columns with other metadata for each row. Pre-training with UDT supports two types of columns, strong and weak. For the purpose of this demo, we choose *text* to be the strong column and leave the weak column list to be empty.\n",
    "\n",
    "A couple of sample rows of the *corpus_file* are shown below.\n",
    "\n",
    "PLEASE NOTE: Currently, UDT's cold_start function requires the *id* to be an integer. We will add support for other formats in a future release."
   ]
  },
  {
   "cell_type": "code",
   "execution_count": 2,
   "metadata": {},
   "outputs": [
    {
     "data": {
      "text/html": [
       "<div>\n",
       "<style scoped>\n",
       "    .dataframe tbody tr th:only-of-type {\n",
       "        vertical-align: middle;\n",
       "    }\n",
       "\n",
       "    .dataframe tbody tr th {\n",
       "        vertical-align: top;\n",
       "    }\n",
       "\n",
       "    .dataframe thead th {\n",
       "        text-align: right;\n",
       "    }\n",
       "</style>\n",
       "<table border=\"1\" class=\"dataframe\">\n",
       "  <thead>\n",
       "    <tr style=\"text-align: right;\">\n",
       "      <th></th>\n",
       "      <th>id</th>\n",
       "      <th>text</th>\n",
       "    </tr>\n",
       "  </thead>\n",
       "  <tbody>\n",
       "    <tr>\n",
       "      <th>0</th>\n",
       "      <td>0</td>\n",
       "      <td>wall st. bears claw back into the black (reuters) reuters - short-sellers  wall street's dwindling\\band of ultra-cynics  are seeing green again.</td>\n",
       "    </tr>\n",
       "    <tr>\n",
       "      <th>1</th>\n",
       "      <td>1</td>\n",
       "      <td>carlyle looks toward commercial aerospace (reuters) reuters - private investment firm carlyle group \\which has a reputation for making well-timed and occasionally\\controversial plays in the defense industry  has quietly placed\\its bets on another part of the market.</td>\n",
       "    </tr>\n",
       "  </tbody>\n",
       "</table>\n",
       "</div>"
      ],
      "text/plain": [
       "   id  \\\n",
       "0   0   \n",
       "1   1   \n",
       "\n",
       "                                                                                                                                                                                                                                                                         text  \n",
       "0                                                                                                                            wall st. bears claw back into the black (reuters) reuters - short-sellers  wall street's dwindling\\band of ultra-cynics  are seeing green again.  \n",
       "1  carlyle looks toward commercial aerospace (reuters) reuters - private investment firm carlyle group \\which has a reputation for making well-timed and occasionally\\controversial plays in the defense industry  has quietly placed\\its bets on another part of the market.  "
      ]
     },
     "execution_count": 2,
     "metadata": {},
     "output_type": "execute_result"
    }
   ],
   "source": [
    "import pandas as pd\n",
    "\n",
    "pd.options.display.max_colwidth = 700\n",
    "pd.read_csv(corpus_file, nrows=2)"
   ]
  },
  {
   "cell_type": "markdown",
   "metadata": {},
   "source": [
    "### Define a UDT model\n",
    "\n",
    "The column name *query* can be anything of your choice.\n",
    "The column name *id* should match with the one in the header of the *corpus_file*."
   ]
  },
  {
   "cell_type": "code",
   "execution_count": null,
   "metadata": {},
   "outputs": [],
   "source": [
    "model = bolt.UniversalDeepTransformer(\n",
    "    data_types={\n",
    "        \"query\": bolt.types.text(),\n",
    "        \"id\": bolt.types.categorical(delimiter=':'),\n",
    "    },\n",
    "    target=\"id\",\n",
    "    n_target_classes=n_target_classes,\n",
    "    integer_target=True,\n",
    "    model_config='./configs/embeddings_and_cold_start_0.005.config',\n",
    ")"
   ]
  },
  {
   "cell_type": "markdown",
   "metadata": {},
   "source": [
    "### Pre-train (Cold Start) on the *corpus_file*\n",
    "\n",
    "In the following step, we do the pre-training by specifying the strong and weak columns. For this demo, we use *text* as the strong column and leave the weak columns to be an emplty list. We can have more columns in either of the lists. The training time and the accuracies are shown below."
   ]
  },
  {
   "cell_type": "code",
   "execution_count": 5,
   "metadata": {},
   "outputs": [
    {
     "name": "stdout",
     "output_type": "stream",
     "text": [
      "loading data | source './datasets/agnews.csv'\n",
      "loaded data | source './datasets/agnews.csv' | vectors 120000 | batches 59 | time 0s | complete\n",
      "\n",
      "train | epoch 0 | train_steps 59 | {categorical_accuracy: 0.00035} | train_batches 59 | time 103s | complete\n",
      "\n",
      "train | epoch 1 | train_steps 118 | {categorical_accuracy: 0.068775} | train_batches 59 | time 79s | complete\n",
      "\n",
      "train | epoch 2 | train_steps 177 | {categorical_accuracy: 0.350508} | train_batches 59 | time 85s | complete\n",
      "\n",
      "train | epoch 3 | train_steps 236 | {categorical_accuracy: 0.656625} | train_batches 59 | time 86s | complete\n",
      "\n",
      "train | epoch 4 | train_steps 295 | {categorical_accuracy: 0.825342} | train_batches 59 | time 86s | complete\n",
      "\n"
     ]
    },
    {
     "data": {
      "text/plain": [
       "{'epoch_times': [79.0, 85.0, 86.0, 86.0],\n",
       " 'categorical_accuracy': [0.068775,\n",
       "  0.3505083333333333,\n",
       "  0.656625,\n",
       "  0.8253416666666666]}"
      ]
     },
     "execution_count": 5,
     "metadata": {},
     "output_type": "execute_result"
    }
   ],
   "source": [
    "model.cold_start(\n",
    "    filename=corpus_file,\n",
    "    strong_column_names=[\"text\"],\n",
    "    weak_column_names=[],\n",
    "    learning_rate=0.001,\n",
    "    epochs=5,\n",
    "    metrics=['categorical_accuracy'],\n",
    ")"
   ]
  },
  {
   "cell_type": "markdown",
   "metadata": {},
   "source": [
    "### Save and load the model"
   ]
  },
  {
   "cell_type": "code",
   "execution_count": 6,
   "metadata": {},
   "outputs": [],
   "source": [
    "model.save('./agnews.model')\n",
    "\n",
    "model = bolt.UniversalDeepTransformer.load('./agnews.model')"
   ]
  },
  {
   "cell_type": "markdown",
   "metadata": {},
   "source": [
    "### Make Predictions"
   ]
  },
  {
   "cell_type": "code",
   "execution_count": 10,
   "metadata": {},
   "outputs": [
    {
     "data": {
      "text/html": [
       "<div>\n",
       "<style scoped>\n",
       "    .dataframe tbody tr th:only-of-type {\n",
       "        vertical-align: middle;\n",
       "    }\n",
       "\n",
       "    .dataframe tbody tr th {\n",
       "        vertical-align: top;\n",
       "    }\n",
       "\n",
       "    .dataframe thead th {\n",
       "        text-align: right;\n",
       "    }\n",
       "</style>\n",
       "<table border=\"1\" class=\"dataframe\">\n",
       "  <thead>\n",
       "    <tr style=\"text-align: right;\">\n",
       "      <th></th>\n",
       "      <th>id</th>\n",
       "      <th>text</th>\n",
       "    </tr>\n",
       "  </thead>\n",
       "  <tbody>\n",
       "    <tr>\n",
       "      <th>27868</th>\n",
       "      <td>27868</td>\n",
       "      <td>world briefings britain: blair warns of climate threat prime minister tony blair urged the international community to consider global warming a dire threat and agree on a plan of action to curb the  quot;alarming quot; growth of greenhouse gases.</td>\n",
       "    </tr>\n",
       "    <tr>\n",
       "      <th>27345</th>\n",
       "      <td>27345</td>\n",
       "      <td>penguin decline due to global warming? scientists are investigating whether global warming is linked to declining penguin populations on south africa's prince edward islands and antarctica.</td>\n",
       "    </tr>\n",
       "    <tr>\n",
       "      <th>100819</th>\n",
       "      <td>100819</td>\n",
       "      <td>group passes on addressing global warming (ap) ap - although faced with fresh evidence of global warming  the united states and other members the arctic council on wednesday failed to make any recommendations to combat a problem most scientists say is causing sea ice to melt and temperatures to rise.</td>\n",
       "    </tr>\n",
       "    <tr>\n",
       "      <th>78602</th>\n",
       "      <td>78602</td>\n",
       "      <td>arctic endangered by greenhouse gases: report washington: greenhouse gases have contributed to a gradual warming of the ecologically-fragile arctic region  causing massive climate changes  including melting glaciers and sea ice  according to a soon-to-be-released environmental study.</td>\n",
       "    </tr>\n",
       "    <tr>\n",
       "      <th>36710</th>\n",
       "      <td>36710</td>\n",
       "      <td>united eyes decision on pension plans' fate united airlines hopes to complete a new business plan within two months  including a decision on whether to terminate its pension plans  the company told employees yesterday.</td>\n",
       "    </tr>\n",
       "  </tbody>\n",
       "</table>\n",
       "</div>"
      ],
      "text/plain": [
       "            id  \\\n",
       "27868    27868   \n",
       "27345    27345   \n",
       "100819  100819   \n",
       "78602    78602   \n",
       "36710    36710   \n",
       "\n",
       "                                                                                                                                                                                                                                                                                                                 text  \n",
       "27868                                                          world briefings britain: blair warns of climate threat prime minister tony blair urged the international community to consider global warming a dire threat and agree on a plan of action to curb the  quot;alarming quot; growth of greenhouse gases.  \n",
       "27345                                                                                                                   penguin decline due to global warming? scientists are investigating whether global warming is linked to declining penguin populations on south africa's prince edward islands and antarctica.  \n",
       "100819  group passes on addressing global warming (ap) ap - although faced with fresh evidence of global warming  the united states and other members the arctic council on wednesday failed to make any recommendations to combat a problem most scientists say is causing sea ice to melt and temperatures to rise.  \n",
       "78602                    arctic endangered by greenhouse gases: report washington: greenhouse gases have contributed to a gradual warming of the ecologically-fragile arctic region  causing massive climate changes  including melting glaciers and sea ice  according to a soon-to-be-released environmental study.  \n",
       "36710                                                                                      united eyes decision on pension plans' fate united airlines hopes to complete a new business plan within two months  including a decision on whether to terminate its pension plans  the company told employees yesterday.  "
      ]
     },
     "execution_count": 10,
     "metadata": {},
     "output_type": "execute_result"
    }
   ],
   "source": [
    "import numpy as np\n",
    "import pandas as pd\n",
    "\n",
    "activations = model.predict({'query':'BRITAIN: BLAIR WARNS OF CLIMATE THREAT Prime Minister Tony Blair urged the international community to consider global warming a dire threat and agree on a plan of action to curb the  quot;alarming quot; growth of greenhouse gases'})\n",
    "top_preds = np.argsort(-activations)[:5]\n",
    "\n",
    "df = pd.read_csv(corpus_file)\n",
    "df.iloc[top_preds]"
   ]
  }
 ],
 "metadata": {
  "kernelspec": {
   "display_name": "Python 3.8.10 64-bit",
   "language": "python",
   "name": "python3"
  },
  "language_info": {
   "codemirror_mode": {
    "name": "ipython",
    "version": 3
   },
   "file_extension": ".py",
   "mimetype": "text/x-python",
   "name": "python",
   "nbconvert_exporter": "python",
   "pygments_lexer": "ipython3",
   "version": "3.8.10"
  },
  "orig_nbformat": 4,
  "vscode": {
   "interpreter": {
    "hash": "31f2aee4e71d21fbe5cf8b01ff0e069b9275f58929596ceb00d14d90e3e16cd6"
   }
  }
 },
 "nbformat": 4,
 "nbformat_minor": 2
}
