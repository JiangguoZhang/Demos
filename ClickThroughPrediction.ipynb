{
 "cells": [
  {
   "cell_type": "markdown",
   "metadata": {},
   "source": [
    "# Click-Through Prediction with ThirdAI's Universal Deep Transformer\n",
    "\n",
    "This notebook shows how to build a Click-Through Prediction model with ThirdAI's\n",
    "Universal Deep Transformer (UDT), our all-purpose classifier for a multitude of problems.\n",
    "In this demo, we will train and evaluate the model on the Kaggle Display Advertising (Criteo) dataset, \n",
    "but you can easily replace this with your own dataset.\n",
    "\n",
    "To run this notebook, you will need to obtain a ThirdAI license at the following link if you have not already:\n",
    "https://www.thirdai.com/try-bolt/\n",
    "\n"
   ]
  },
  {
   "cell_type": "code",
   "execution_count": null,
   "metadata": {},
   "outputs": [],
   "source": [
    "!pip3 install thirdai==0.5.1\n",
    "!pip3 install pandas # We need Pandas in the utils module to convert downloaded datasets to CSV format\n",
    "!pip3 install numpy # We use numpy to analyze UDT performance in this notebook\n",
    "!pip3 install sklearn"
   ]
  },
  {
   "cell_type": "markdown",
   "metadata": {},
   "source": [
    "# Dataset Download\n",
    "\n",
    "We will use the utils module in this repo to download the Kaggle Display Advertising dataset (if you have just copied this notebook and not cloned the entire repo, you will need to copy the utils.py file as well). You can replace \n",
    "this step with your own downloader and preprocessor that is specific to your dataset. The file that you pass into the UDT's train and evaluate methods have to be in CSV format with a header that has all column names.\n"
   ]
  },
  {
   "cell_type": "code",
   "execution_count": null,
   "metadata": {},
   "outputs": [],
   "source": [
    "import utils\n",
    "\n",
    "train_filename, test_filename, y_train, y_test, min_vals_of_numeric_cols, max_vals_of_numeric_cols, n_unique_classes, sample_batch = utils.download_criteo()"
   ]
  },
  {
   "cell_type": "markdown",
   "metadata": {},
   "source": [
    "# UDT Initilization\n",
    "\n",
    "We can now create a UDT model by passing in the types of each column in the dataset\n",
    "and the target column we want to be able to predict."
   ]
  },
  {
   "cell_type": "code",
   "execution_count": null,
   "metadata": {},
   "outputs": [],
   "source": [
    "from thirdai import bolt\n",
    "from sklearn.metrics import roc_auc_score\n",
    "import numpy as np\n",
    "\n",
    "model = bolt.UniversalDeepTransformer(\n",
    "    data_types={\n",
    "        \"num_1\": bolt.types.numerical(range=(min_vals_of_numeric_cols[0], max_vals_of_numeric_cols[0])),\n",
    "        \"num_2\": bolt.types.numerical(range=(min_vals_of_numeric_cols[1], max_vals_of_numeric_cols[1])),\n",
    "        \"num_3\": bolt.types.numerical(range=(min_vals_of_numeric_cols[2], max_vals_of_numeric_cols[2])),\n",
    "        \"num_4\": bolt.types.numerical(range=(min_vals_of_numeric_cols[3], max_vals_of_numeric_cols[3])),\n",
    "        \"num_5\": bolt.types.numerical(range=(min_vals_of_numeric_cols[4], max_vals_of_numeric_cols[4])),\n",
    "        \"num_6\": bolt.types.numerical(range=(min_vals_of_numeric_cols[5], max_vals_of_numeric_cols[5])),\n",
    "        \"num_7\": bolt.types.numerical(range=(min_vals_of_numeric_cols[6], max_vals_of_numeric_cols[6])),\n",
    "        \"num_8\": bolt.types.numerical(range=(min_vals_of_numeric_cols[7], max_vals_of_numeric_cols[7])),\n",
    "        \"num_9\": bolt.types.numerical(range=(min_vals_of_numeric_cols[8], max_vals_of_numeric_cols[8])),\n",
    "        \"num_10\": bolt.types.numerical(range=(min_vals_of_numeric_cols[9], max_vals_of_numeric_cols[9])),\n",
    "        \"num_11\": bolt.types.numerical(range=(min_vals_of_numeric_cols[10], max_vals_of_numeric_cols[10])),\n",
    "        \"num_12\": bolt.types.numerical(range=(min_vals_of_numeric_cols[11], max_vals_of_numeric_cols[11])),\n",
    "        \"num_13\": bolt.types.numerical(range=(min_vals_of_numeric_cols[12], max_vals_of_numeric_cols[12])),\n",
    "        \"cat_1\": bolt.types.categorical(n_unique_classes=n_unique_classes[0]),\n",
    "        \"cat_2\": bolt.types.categorical(n_unique_classes=n_unique_classes[1]),\n",
    "        \"cat_3\": bolt.types.categorical(n_unique_classes=n_unique_classes[2]),\n",
    "        \"cat_4\": bolt.types.categorical(n_unique_classes=n_unique_classes[3]),\n",
    "        \"cat_5\": bolt.types.categorical(n_unique_classes=n_unique_classes[4]),\n",
    "        \"cat_6\": bolt.types.categorical(n_unique_classes=n_unique_classes[5]),\n",
    "        \"cat_7\": bolt.types.categorical(n_unique_classes=n_unique_classes[6]),\n",
    "        \"cat_8\": bolt.types.categorical(n_unique_classes=n_unique_classes[7]),\n",
    "        \"cat_9\": bolt.types.categorical(n_unique_classes=n_unique_classes[8]),\n",
    "        \"cat_10\": bolt.types.categorical(n_unique_classes=n_unique_classes[9]),\n",
    "        \"cat_11\": bolt.types.categorical(n_unique_classes=n_unique_classes[10]),\n",
    "        \"cat_12\": bolt.types.categorical(n_unique_classes=n_unique_classes[11]),\n",
    "        \"cat_13\": bolt.types.categorical(n_unique_classes=n_unique_classes[12]),\n",
    "        \"cat_14\": bolt.types.categorical(n_unique_classes=n_unique_classes[13]),\n",
    "        \"cat_15\": bolt.types.categorical(n_unique_classes=n_unique_classes[14]),\n",
    "        \"cat_16\": bolt.types.categorical(n_unique_classes=n_unique_classes[15]),\n",
    "        \"cat_17\": bolt.types.categorical(n_unique_classes=n_unique_classes[16]),\n",
    "        \"cat_18\": bolt.types.categorical(n_unique_classes=n_unique_classes[17]),\n",
    "        \"cat_19\": bolt.types.categorical(n_unique_classes=n_unique_classes[18]),\n",
    "        \"cat_20\": bolt.types.categorical(n_unique_classes=n_unique_classes[19]),\n",
    "        \"cat_21\": bolt.types.categorical(n_unique_classes=n_unique_classes[20]),\n",
    "        \"cat_22\": bolt.types.categorical(n_unique_classes=n_unique_classes[21]),\n",
    "        \"cat_23\": bolt.types.categorical(n_unique_classes=n_unique_classes[22]),\n",
    "        \"cat_24\": bolt.types.categorical(n_unique_classes=n_unique_classes[23]),\n",
    "        \"cat_25\": bolt.types.categorical(n_unique_classes=n_unique_classes[24]),\n",
    "        \"cat_26\": bolt.types.categorical(n_unique_classes=n_unique_classes[25]),\n",
    "        \"label\": bolt.types.categorical(n_unique_classes=2),\n",
    "    },\n",
    "    target=\"label\",\n",
    ")"
   ]
  },
  {
   "cell_type": "markdown",
   "metadata": {},
   "source": [
    "# Training\n",
    "\n",
    "We can now train our UDT model with just two lines! You can customize the\n",
    "number of epochs and the learning rate through the *train_config* object. If you do not give any train_config, the *train()* method will auto-tune the best *train_config*."
   ]
  },
  {
   "cell_type": "code",
   "execution_count": null,
   "metadata": {},
   "outputs": [],
   "source": [
    "train_config = bolt.TrainConfig(epochs=1, learning_rate=0.001)\n",
    "\n",
    "model.train(train_filename, train_config)"
   ]
  },
  {
   "cell_type": "markdown",
   "metadata": {},
   "source": [
    "# Evaluation\n",
    "\n",
    "Evaluating the performance of the UDT model is also just two lines! For this specific application, AUC is the preferred metric. We will first get the activations and then compute the AUC."
   ]
  },
  {
   "cell_type": "code",
   "execution_count": null,
   "metadata": {},
   "outputs": [],
   "source": [
    "eval_config = bolt.EvalConfig().return_activations()\n",
    "\n",
    "activations = model.evaluate(test_filename, eval_config)\n",
    "\n",
    "roc_auc = roc_auc_score(y_test, activations[:,1])"
   ]
  },
  {
   "cell_type": "markdown",
   "metadata": {},
   "source": [
    "# Saving and Loading\n",
    "\n",
    "Saving and loading a trained UDT model to disk is also extremely straight forward."
   ]
  },
  {
   "cell_type": "code",
   "execution_count": null,
   "metadata": {},
   "outputs": [],
   "source": [
    "save_location = \"click_through.model\"\n",
    "\n",
    "# Saving\n",
    "model.save(save_location)\n",
    "\n",
    "# Loading\n",
    "model = bolt.UniversalDeepTransformer.load(save_location)\n"
   ]
  },
  {
   "cell_type": "markdown",
   "metadata": {},
   "source": [
    "# Testing Predictions\n",
    "\n",
    "The evaluation method is great for testing, but it requires labels, which don't\n",
    "exist in a production setting. We also have a predict method that can take in an \n",
    "in-memory batch of rows or a single row (without the target column), allowing \n",
    "easy integration into production pipelines."
   ]
  },
  {
   "cell_type": "code",
   "execution_count": null,
   "metadata": {},
   "outputs": [],
   "source": [
    "import numpy as np\n",
    "\n",
    "prediction = model.predict(sample_batch[0])\n",
    "prediction_batch = model.predict_batch(sample_batch)"
   ]
  }
 ],
 "metadata": {
  "kernelspec": {
   "display_name": "Python 3.10.6 ('ray')",
   "language": "python",
   "name": "python3"
  },
  "language_info": {
   "codemirror_mode": {
    "name": "ipython",
    "version": 3
   },
   "file_extension": ".py",
   "mimetype": "text/x-python",
   "name": "python",
   "nbconvert_exporter": "python",
   "pygments_lexer": "ipython3",
   "version": "3.10.6"
  },
  "orig_nbformat": 4,
  "vscode": {
   "interpreter": {
    "hash": "c2b55f3c1070a737cba5ae26c80ccfca8c498ccfe0c448debd0609b3ad9fe7f9"
   }
  }
 },
 "nbformat": 4,
 "nbformat_minor": 2
}
